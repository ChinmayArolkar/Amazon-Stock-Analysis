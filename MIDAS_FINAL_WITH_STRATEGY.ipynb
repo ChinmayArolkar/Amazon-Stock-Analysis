{
 "cells": [
  {
   "cell_type": "markdown",
   "metadata": {},
   "source": [
    "# Mixed Data Sampling(MIDAS) for predicting quaterly Typical Price "
   ]
  },
  {
   "cell_type": "code",
   "execution_count": 3,
   "metadata": {},
   "outputs": [],
   "source": [
    "%matplotlib inline\n",
    "import pandas as pd\n",
    "import numpy as np\n",
    "from matplotlib import pyplot as plt\n",
    "from midas.mix import mix_freq, mix_freq2\n",
    "from midas.adl import estimate, forecast, midas_adl, rmse, estimate2,forecast2, midas_adl2\n",
    "import datetime\n",
    "import math"
   ]
  },
  {
   "cell_type": "markdown",
   "metadata": {},
   "source": [
    "##  Load Amazon data\n"
   ]
  },
  {
   "cell_type": "code",
   "execution_count": 4,
   "metadata": {},
   "outputs": [
    {
     "data": {
      "text/html": [
       "<div>\n",
       "<style scoped>\n",
       "    .dataframe tbody tr th:only-of-type {\n",
       "        vertical-align: middle;\n",
       "    }\n",
       "\n",
       "    .dataframe tbody tr th {\n",
       "        vertical-align: top;\n",
       "    }\n",
       "\n",
       "    .dataframe thead th {\n",
       "        text-align: right;\n",
       "    }\n",
       "</style>\n",
       "<table border=\"1\" class=\"dataframe\">\n",
       "  <thead>\n",
       "    <tr style=\"text-align: right;\">\n",
       "      <th></th>\n",
       "      <th>Date</th>\n",
       "      <th>Open</th>\n",
       "      <th>High</th>\n",
       "      <th>Low</th>\n",
       "      <th>Close</th>\n",
       "      <th>Adj Close</th>\n",
       "      <th>Volume</th>\n",
       "    </tr>\n",
       "  </thead>\n",
       "  <tbody>\n",
       "    <tr>\n",
       "      <th>984</th>\n",
       "      <td>2019-11-29</td>\n",
       "      <td>1817.780029</td>\n",
       "      <td>1824.689941</td>\n",
       "      <td>1800.790039</td>\n",
       "      <td>1800.800049</td>\n",
       "      <td>1800.800049</td>\n",
       "      <td>1923400</td>\n",
       "    </tr>\n",
       "    <tr>\n",
       "      <th>985</th>\n",
       "      <td>2019-12-02</td>\n",
       "      <td>1804.400024</td>\n",
       "      <td>1805.550049</td>\n",
       "      <td>1762.680054</td>\n",
       "      <td>1781.599976</td>\n",
       "      <td>1781.599976</td>\n",
       "      <td>3925600</td>\n",
       "    </tr>\n",
       "    <tr>\n",
       "      <th>986</th>\n",
       "      <td>2019-12-03</td>\n",
       "      <td>1760.000000</td>\n",
       "      <td>1772.869995</td>\n",
       "      <td>1747.229980</td>\n",
       "      <td>1769.959961</td>\n",
       "      <td>1769.959961</td>\n",
       "      <td>3380900</td>\n",
       "    </tr>\n",
       "    <tr>\n",
       "      <th>987</th>\n",
       "      <td>2019-12-04</td>\n",
       "      <td>1774.010010</td>\n",
       "      <td>1789.089966</td>\n",
       "      <td>1760.219971</td>\n",
       "      <td>1760.689941</td>\n",
       "      <td>1760.689941</td>\n",
       "      <td>2670100</td>\n",
       "    </tr>\n",
       "    <tr>\n",
       "      <th>988</th>\n",
       "      <td>2019-12-05</td>\n",
       "      <td>1763.500000</td>\n",
       "      <td>1763.500000</td>\n",
       "      <td>1740.000000</td>\n",
       "      <td>1740.479980</td>\n",
       "      <td>1740.479980</td>\n",
       "      <td>2823800</td>\n",
       "    </tr>\n",
       "  </tbody>\n",
       "</table>\n",
       "</div>"
      ],
      "text/plain": [
       "          Date         Open         High          Low        Close  \\\n",
       "984 2019-11-29  1817.780029  1824.689941  1800.790039  1800.800049   \n",
       "985 2019-12-02  1804.400024  1805.550049  1762.680054  1781.599976   \n",
       "986 2019-12-03  1760.000000  1772.869995  1747.229980  1769.959961   \n",
       "987 2019-12-04  1774.010010  1789.089966  1760.219971  1760.689941   \n",
       "988 2019-12-05  1763.500000  1763.500000  1740.000000  1740.479980   \n",
       "\n",
       "       Adj Close   Volume  \n",
       "984  1800.800049  1923400  \n",
       "985  1781.599976  3925600  \n",
       "986  1769.959961  3380900  \n",
       "987  1760.689941  2670100  \n",
       "988  1740.479980  2823800  "
      ]
     },
     "execution_count": 4,
     "metadata": {},
     "output_type": "execute_result"
    }
   ],
   "source": [
    "amzn = pd.read_csv('/Users/haroonperveez/Downloads/AMZN_long2.csv')\n",
    "amzn.tail()\n",
    "amzn['Date'] = pd.to_datetime(amzn['Date'])\n",
    "amzn.tail()"
   ]
  },
  {
   "cell_type": "code",
   "execution_count": 5,
   "metadata": {},
   "outputs": [
    {
     "data": {
      "text/html": [
       "<div>\n",
       "<style scoped>\n",
       "    .dataframe tbody tr th:only-of-type {\n",
       "        vertical-align: middle;\n",
       "    }\n",
       "\n",
       "    .dataframe tbody tr th {\n",
       "        vertical-align: top;\n",
       "    }\n",
       "\n",
       "    .dataframe thead th {\n",
       "        text-align: right;\n",
       "    }\n",
       "</style>\n",
       "<table border=\"1\" class=\"dataframe\">\n",
       "  <thead>\n",
       "    <tr style=\"text-align: right;\">\n",
       "      <th></th>\n",
       "      <th>Date</th>\n",
       "      <th>Open</th>\n",
       "      <th>Close</th>\n",
       "      <th>High</th>\n",
       "      <th>Low</th>\n",
       "      <th>Volume</th>\n",
       "    </tr>\n",
       "  </thead>\n",
       "  <tbody>\n",
       "    <tr>\n",
       "      <th>0</th>\n",
       "      <td>2016-01-04</td>\n",
       "      <td>656.289978</td>\n",
       "      <td>636.989990</td>\n",
       "      <td>657.719971</td>\n",
       "      <td>627.510010</td>\n",
       "      <td>9314500</td>\n",
       "    </tr>\n",
       "    <tr>\n",
       "      <th>1</th>\n",
       "      <td>2016-01-05</td>\n",
       "      <td>646.859985</td>\n",
       "      <td>633.789978</td>\n",
       "      <td>646.909973</td>\n",
       "      <td>627.650024</td>\n",
       "      <td>5822600</td>\n",
       "    </tr>\n",
       "    <tr>\n",
       "      <th>2</th>\n",
       "      <td>2016-01-06</td>\n",
       "      <td>622.000000</td>\n",
       "      <td>632.650024</td>\n",
       "      <td>639.789978</td>\n",
       "      <td>620.309998</td>\n",
       "      <td>5329200</td>\n",
       "    </tr>\n",
       "    <tr>\n",
       "      <th>3</th>\n",
       "      <td>2016-01-07</td>\n",
       "      <td>621.799988</td>\n",
       "      <td>607.940002</td>\n",
       "      <td>630.000000</td>\n",
       "      <td>605.210022</td>\n",
       "      <td>7074900</td>\n",
       "    </tr>\n",
       "    <tr>\n",
       "      <th>4</th>\n",
       "      <td>2016-01-08</td>\n",
       "      <td>619.659973</td>\n",
       "      <td>607.049988</td>\n",
       "      <td>624.140015</td>\n",
       "      <td>606.000000</td>\n",
       "      <td>5512900</td>\n",
       "    </tr>\n",
       "  </tbody>\n",
       "</table>\n",
       "</div>"
      ],
      "text/plain": [
       "        Date        Open       Close        High         Low   Volume\n",
       "0 2016-01-04  656.289978  636.989990  657.719971  627.510010  9314500\n",
       "1 2016-01-05  646.859985  633.789978  646.909973  627.650024  5822600\n",
       "2 2016-01-06  622.000000  632.650024  639.789978  620.309998  5329200\n",
       "3 2016-01-07  621.799988  607.940002  630.000000  605.210022  7074900\n",
       "4 2016-01-08  619.659973  607.049988  624.140015  606.000000  5512900"
      ]
     },
     "execution_count": 5,
     "metadata": {},
     "output_type": "execute_result"
    }
   ],
   "source": [
    "amzn = pd.read_excel(\"../data/AMZN.xls\")\n",
    "amzn.head()"
   ]
  },
  {
   "cell_type": "code",
   "execution_count": 6,
   "metadata": {},
   "outputs": [
    {
     "name": "stdout",
     "output_type": "stream",
     "text": [
      "<class 'pandas.core.frame.DataFrame'>\n",
      "RangeIndex: 878 entries, 0 to 877\n",
      "Data columns (total 6 columns):\n",
      "Date      878 non-null datetime64[ns]\n",
      "Open      878 non-null float64\n",
      "Close     878 non-null float64\n",
      "High      878 non-null float64\n",
      "Low       878 non-null float64\n",
      "Volume    878 non-null int64\n",
      "dtypes: datetime64[ns](1), float64(4), int64(1)\n",
      "memory usage: 41.2 KB\n"
     ]
    }
   ],
   "source": [
    "amzn.info()"
   ]
  },
  {
   "cell_type": "markdown",
   "metadata": {},
   "source": [
    "### Calculating daily typical price of AMZN  that is mean of (High+Low+Close)"
   ]
  },
  {
   "cell_type": "code",
   "execution_count": 7,
   "metadata": {},
   "outputs": [
    {
     "data": {
      "text/html": [
       "<div>\n",
       "<style scoped>\n",
       "    .dataframe tbody tr th:only-of-type {\n",
       "        vertical-align: middle;\n",
       "    }\n",
       "\n",
       "    .dataframe tbody tr th {\n",
       "        vertical-align: top;\n",
       "    }\n",
       "\n",
       "    .dataframe thead th {\n",
       "        text-align: right;\n",
       "    }\n",
       "</style>\n",
       "<table border=\"1\" class=\"dataframe\">\n",
       "  <thead>\n",
       "    <tr style=\"text-align: right;\">\n",
       "      <th></th>\n",
       "      <th>Date</th>\n",
       "      <th>Open</th>\n",
       "      <th>Close</th>\n",
       "      <th>High</th>\n",
       "      <th>Low</th>\n",
       "      <th>Volume</th>\n",
       "      <th>Typical_Price</th>\n",
       "    </tr>\n",
       "  </thead>\n",
       "  <tbody>\n",
       "    <tr>\n",
       "      <th>0</th>\n",
       "      <td>2016-01-04</td>\n",
       "      <td>656.289978</td>\n",
       "      <td>636.989990</td>\n",
       "      <td>657.719971</td>\n",
       "      <td>627.510010</td>\n",
       "      <td>9314500</td>\n",
       "      <td>640.739990</td>\n",
       "    </tr>\n",
       "    <tr>\n",
       "      <th>1</th>\n",
       "      <td>2016-01-05</td>\n",
       "      <td>646.859985</td>\n",
       "      <td>633.789978</td>\n",
       "      <td>646.909973</td>\n",
       "      <td>627.650024</td>\n",
       "      <td>5822600</td>\n",
       "      <td>636.116658</td>\n",
       "    </tr>\n",
       "    <tr>\n",
       "      <th>2</th>\n",
       "      <td>2016-01-06</td>\n",
       "      <td>622.000000</td>\n",
       "      <td>632.650024</td>\n",
       "      <td>639.789978</td>\n",
       "      <td>620.309998</td>\n",
       "      <td>5329200</td>\n",
       "      <td>630.916667</td>\n",
       "    </tr>\n",
       "    <tr>\n",
       "      <th>3</th>\n",
       "      <td>2016-01-07</td>\n",
       "      <td>621.799988</td>\n",
       "      <td>607.940002</td>\n",
       "      <td>630.000000</td>\n",
       "      <td>605.210022</td>\n",
       "      <td>7074900</td>\n",
       "      <td>614.383341</td>\n",
       "    </tr>\n",
       "    <tr>\n",
       "      <th>4</th>\n",
       "      <td>2016-01-08</td>\n",
       "      <td>619.659973</td>\n",
       "      <td>607.049988</td>\n",
       "      <td>624.140015</td>\n",
       "      <td>606.000000</td>\n",
       "      <td>5512900</td>\n",
       "      <td>612.396668</td>\n",
       "    </tr>\n",
       "  </tbody>\n",
       "</table>\n",
       "</div>"
      ],
      "text/plain": [
       "        Date        Open       Close        High         Low   Volume  \\\n",
       "0 2016-01-04  656.289978  636.989990  657.719971  627.510010  9314500   \n",
       "1 2016-01-05  646.859985  633.789978  646.909973  627.650024  5822600   \n",
       "2 2016-01-06  622.000000  632.650024  639.789978  620.309998  5329200   \n",
       "3 2016-01-07  621.799988  607.940002  630.000000  605.210022  7074900   \n",
       "4 2016-01-08  619.659973  607.049988  624.140015  606.000000  5512900   \n",
       "\n",
       "   Typical_Price  \n",
       "0     640.739990  \n",
       "1     636.116658  \n",
       "2     630.916667  \n",
       "3     614.383341  \n",
       "4     612.396668  "
      ]
     },
     "execution_count": 7,
     "metadata": {},
     "output_type": "execute_result"
    }
   ],
   "source": [
    "amzn['Typical_Price'] = amzn[['High','Low','Close']].mean(axis=1)\n",
    "amzn.head()\n"
   ]
  },
  {
   "cell_type": "markdown",
   "metadata": {},
   "source": [
    "### Fama French Data\n"
   ]
  },
  {
   "cell_type": "code",
   "execution_count": 8,
   "metadata": {},
   "outputs": [
    {
     "data": {
      "text/html": [
       "<div>\n",
       "<style scoped>\n",
       "    .dataframe tbody tr th:only-of-type {\n",
       "        vertical-align: middle;\n",
       "    }\n",
       "\n",
       "    .dataframe tbody tr th {\n",
       "        vertical-align: top;\n",
       "    }\n",
       "\n",
       "    .dataframe thead th {\n",
       "        text-align: right;\n",
       "    }\n",
       "</style>\n",
       "<table border=\"1\" class=\"dataframe\">\n",
       "  <thead>\n",
       "    <tr style=\"text-align: right;\">\n",
       "      <th></th>\n",
       "      <th>Date</th>\n",
       "      <th>Mkt-RF</th>\n",
       "      <th>SMB</th>\n",
       "      <th>HML</th>\n",
       "      <th>RF</th>\n",
       "    </tr>\n",
       "  </thead>\n",
       "  <tbody>\n",
       "    <tr>\n",
       "      <th>0</th>\n",
       "      <td>19260701</td>\n",
       "      <td>0.10</td>\n",
       "      <td>-0.24</td>\n",
       "      <td>-0.28</td>\n",
       "      <td>0.009</td>\n",
       "    </tr>\n",
       "    <tr>\n",
       "      <th>1</th>\n",
       "      <td>19260702</td>\n",
       "      <td>0.45</td>\n",
       "      <td>-0.32</td>\n",
       "      <td>-0.08</td>\n",
       "      <td>0.009</td>\n",
       "    </tr>\n",
       "    <tr>\n",
       "      <th>2</th>\n",
       "      <td>19260706</td>\n",
       "      <td>0.17</td>\n",
       "      <td>0.27</td>\n",
       "      <td>-0.35</td>\n",
       "      <td>0.009</td>\n",
       "    </tr>\n",
       "    <tr>\n",
       "      <th>3</th>\n",
       "      <td>19260707</td>\n",
       "      <td>0.09</td>\n",
       "      <td>-0.59</td>\n",
       "      <td>0.03</td>\n",
       "      <td>0.009</td>\n",
       "    </tr>\n",
       "    <tr>\n",
       "      <th>4</th>\n",
       "      <td>19260708</td>\n",
       "      <td>0.21</td>\n",
       "      <td>-0.36</td>\n",
       "      <td>0.15</td>\n",
       "      <td>0.009</td>\n",
       "    </tr>\n",
       "  </tbody>\n",
       "</table>\n",
       "</div>"
      ],
      "text/plain": [
       "       Date  Mkt-RF   SMB   HML     RF\n",
       "0  19260701    0.10 -0.24 -0.28  0.009\n",
       "1  19260702    0.45 -0.32 -0.08  0.009\n",
       "2  19260706    0.17  0.27 -0.35  0.009\n",
       "3  19260707    0.09 -0.59  0.03  0.009\n",
       "4  19260708    0.21 -0.36  0.15  0.009"
      ]
     },
     "execution_count": 8,
     "metadata": {},
     "output_type": "execute_result"
    }
   ],
   "source": [
    "fama = pd.read_csv(\"../data/F-F_Research_Data_Factors_daily.csv\")\n",
    "fama.head()"
   ]
  },
  {
   "cell_type": "code",
   "execution_count": 9,
   "metadata": {},
   "outputs": [
    {
     "name": "stdout",
     "output_type": "stream",
     "text": [
      "<class 'pandas.core.frame.DataFrame'>\n",
      "RangeIndex: 24559 entries, 0 to 24558\n",
      "Data columns (total 5 columns):\n",
      "Date      24559 non-null int64\n",
      "Mkt-RF    24559 non-null float64\n",
      "SMB       24559 non-null float64\n",
      "HML       24559 non-null float64\n",
      "RF        24559 non-null float64\n",
      "dtypes: float64(4), int64(1)\n",
      "memory usage: 959.4 KB\n"
     ]
    }
   ],
   "source": [
    "fama.info()"
   ]
  },
  {
   "cell_type": "markdown",
   "metadata": {},
   "source": [
    "### 'Date' is an object. Hence, we need to convert it to Date format."
   ]
  },
  {
   "cell_type": "code",
   "execution_count": 10,
   "metadata": {},
   "outputs": [],
   "source": [
    "fama['Date'] = pd.to_datetime(fama['Date'], format='%Y%m%d')"
   ]
  },
  {
   "cell_type": "code",
   "execution_count": 11,
   "metadata": {},
   "outputs": [
    {
     "data": {
      "text/plain": [
       "dtype('<M8[ns]')"
      ]
     },
     "execution_count": 11,
     "metadata": {},
     "output_type": "execute_result"
    }
   ],
   "source": [
    "fama['Date'].dtype"
   ]
  },
  {
   "cell_type": "markdown",
   "metadata": {},
   "source": [
    "# ADS index data"
   ]
  },
  {
   "cell_type": "code",
   "execution_count": 12,
   "metadata": {},
   "outputs": [
    {
     "data": {
      "text/html": [
       "<div>\n",
       "<style scoped>\n",
       "    .dataframe tbody tr th:only-of-type {\n",
       "        vertical-align: middle;\n",
       "    }\n",
       "\n",
       "    .dataframe tbody tr th {\n",
       "        vertical-align: top;\n",
       "    }\n",
       "\n",
       "    .dataframe thead th {\n",
       "        text-align: right;\n",
       "    }\n",
       "</style>\n",
       "<table border=\"1\" class=\"dataframe\">\n",
       "  <thead>\n",
       "    <tr style=\"text-align: right;\">\n",
       "      <th></th>\n",
       "      <th>Date</th>\n",
       "      <th>ADS_Index_010319</th>\n",
       "      <th>ADS_Index_010419</th>\n",
       "      <th>ADS_Index_011019</th>\n",
       "      <th>ADS_Index_011719</th>\n",
       "      <th>ADS_Index_011819</th>\n",
       "      <th>ADS_Index_012419</th>\n",
       "      <th>ADS_Index_013119</th>\n",
       "      <th>ADS_Index_020119</th>\n",
       "      <th>ADS_Index_020719</th>\n",
       "      <th>...</th>\n",
       "      <th>ADS_Index_091219</th>\n",
       "      <th>ADS_Index_091719</th>\n",
       "      <th>ADS_Index_091919</th>\n",
       "      <th>ADS_Index_092619</th>\n",
       "      <th>ADS_Index_092719</th>\n",
       "      <th>ADS_Index_100319</th>\n",
       "      <th>ADS_Index_100419</th>\n",
       "      <th>ADS_Index_101019</th>\n",
       "      <th>ADS_Index_101719</th>\n",
       "      <th>ADS_Index_102419</th>\n",
       "    </tr>\n",
       "  </thead>\n",
       "  <tbody>\n",
       "    <tr>\n",
       "      <th>0</th>\n",
       "      <td>1960-03-01</td>\n",
       "      <td>-1.816423</td>\n",
       "      <td>-1.816423</td>\n",
       "      <td>-1.816423</td>\n",
       "      <td>-1.816423</td>\n",
       "      <td>-1.816423</td>\n",
       "      <td>-1.816423</td>\n",
       "      <td>-1.816423</td>\n",
       "      <td>-1.824388</td>\n",
       "      <td>-1.824388</td>\n",
       "      <td>...</td>\n",
       "      <td>-2.395069</td>\n",
       "      <td>-2.395069</td>\n",
       "      <td>-2.395069</td>\n",
       "      <td>-2.395069</td>\n",
       "      <td>-2.395069</td>\n",
       "      <td>-2.395069</td>\n",
       "      <td>-2.395069</td>\n",
       "      <td>-2.395069</td>\n",
       "      <td>-2.395069</td>\n",
       "      <td>-2.395069</td>\n",
       "    </tr>\n",
       "    <tr>\n",
       "      <th>1</th>\n",
       "      <td>1960-03-02</td>\n",
       "      <td>-1.795828</td>\n",
       "      <td>-1.795828</td>\n",
       "      <td>-1.795828</td>\n",
       "      <td>-1.795828</td>\n",
       "      <td>-1.795828</td>\n",
       "      <td>-1.795828</td>\n",
       "      <td>-1.795828</td>\n",
       "      <td>-1.803702</td>\n",
       "      <td>-1.803702</td>\n",
       "      <td>...</td>\n",
       "      <td>-2.369012</td>\n",
       "      <td>-2.369012</td>\n",
       "      <td>-2.369012</td>\n",
       "      <td>-2.369012</td>\n",
       "      <td>-2.369012</td>\n",
       "      <td>-2.369012</td>\n",
       "      <td>-2.369012</td>\n",
       "      <td>-2.369012</td>\n",
       "      <td>-2.369012</td>\n",
       "      <td>-2.369012</td>\n",
       "    </tr>\n",
       "    <tr>\n",
       "      <th>2</th>\n",
       "      <td>1960-03-03</td>\n",
       "      <td>-1.774851</td>\n",
       "      <td>-1.774851</td>\n",
       "      <td>-1.774851</td>\n",
       "      <td>-1.774851</td>\n",
       "      <td>-1.774851</td>\n",
       "      <td>-1.774851</td>\n",
       "      <td>-1.774851</td>\n",
       "      <td>-1.782618</td>\n",
       "      <td>-1.782618</td>\n",
       "      <td>...</td>\n",
       "      <td>-2.341905</td>\n",
       "      <td>-2.341905</td>\n",
       "      <td>-2.341905</td>\n",
       "      <td>-2.341905</td>\n",
       "      <td>-2.341905</td>\n",
       "      <td>-2.341905</td>\n",
       "      <td>-2.341905</td>\n",
       "      <td>-2.341905</td>\n",
       "      <td>-2.341905</td>\n",
       "      <td>-2.341905</td>\n",
       "    </tr>\n",
       "    <tr>\n",
       "      <th>3</th>\n",
       "      <td>1960-03-04</td>\n",
       "      <td>-1.753491</td>\n",
       "      <td>-1.753491</td>\n",
       "      <td>-1.753491</td>\n",
       "      <td>-1.753491</td>\n",
       "      <td>-1.753491</td>\n",
       "      <td>-1.753491</td>\n",
       "      <td>-1.753491</td>\n",
       "      <td>-1.761132</td>\n",
       "      <td>-1.761132</td>\n",
       "      <td>...</td>\n",
       "      <td>-2.313746</td>\n",
       "      <td>-2.313746</td>\n",
       "      <td>-2.313746</td>\n",
       "      <td>-2.313746</td>\n",
       "      <td>-2.313746</td>\n",
       "      <td>-2.313746</td>\n",
       "      <td>-2.313746</td>\n",
       "      <td>-2.313746</td>\n",
       "      <td>-2.313746</td>\n",
       "      <td>-2.313746</td>\n",
       "    </tr>\n",
       "    <tr>\n",
       "      <th>4</th>\n",
       "      <td>1960-03-05</td>\n",
       "      <td>-1.731743</td>\n",
       "      <td>-1.731743</td>\n",
       "      <td>-1.731743</td>\n",
       "      <td>-1.731743</td>\n",
       "      <td>-1.731743</td>\n",
       "      <td>-1.731743</td>\n",
       "      <td>-1.731743</td>\n",
       "      <td>-1.739243</td>\n",
       "      <td>-1.739243</td>\n",
       "      <td>...</td>\n",
       "      <td>-2.284532</td>\n",
       "      <td>-2.284532</td>\n",
       "      <td>-2.284532</td>\n",
       "      <td>-2.284532</td>\n",
       "      <td>-2.284532</td>\n",
       "      <td>-2.284532</td>\n",
       "      <td>-2.284532</td>\n",
       "      <td>-2.284532</td>\n",
       "      <td>-2.284532</td>\n",
       "      <td>-2.284532</td>\n",
       "    </tr>\n",
       "  </tbody>\n",
       "</table>\n",
       "<p>5 rows × 72 columns</p>\n",
       "</div>"
      ],
      "text/plain": [
       "        Date  ADS_Index_010319  ADS_Index_010419  ADS_Index_011019  \\\n",
       "0 1960-03-01         -1.816423         -1.816423         -1.816423   \n",
       "1 1960-03-02         -1.795828         -1.795828         -1.795828   \n",
       "2 1960-03-03         -1.774851         -1.774851         -1.774851   \n",
       "3 1960-03-04         -1.753491         -1.753491         -1.753491   \n",
       "4 1960-03-05         -1.731743         -1.731743         -1.731743   \n",
       "\n",
       "   ADS_Index_011719  ADS_Index_011819  ADS_Index_012419  ADS_Index_013119  \\\n",
       "0         -1.816423         -1.816423         -1.816423         -1.816423   \n",
       "1         -1.795828         -1.795828         -1.795828         -1.795828   \n",
       "2         -1.774851         -1.774851         -1.774851         -1.774851   \n",
       "3         -1.753491         -1.753491         -1.753491         -1.753491   \n",
       "4         -1.731743         -1.731743         -1.731743         -1.731743   \n",
       "\n",
       "   ADS_Index_020119  ADS_Index_020719  ...  ADS_Index_091219  \\\n",
       "0         -1.824388         -1.824388  ...         -2.395069   \n",
       "1         -1.803702         -1.803702  ...         -2.369012   \n",
       "2         -1.782618         -1.782618  ...         -2.341905   \n",
       "3         -1.761132         -1.761132  ...         -2.313746   \n",
       "4         -1.739243         -1.739243  ...         -2.284532   \n",
       "\n",
       "   ADS_Index_091719  ADS_Index_091919  ADS_Index_092619  ADS_Index_092719  \\\n",
       "0         -2.395069         -2.395069         -2.395069         -2.395069   \n",
       "1         -2.369012         -2.369012         -2.369012         -2.369012   \n",
       "2         -2.341905         -2.341905         -2.341905         -2.341905   \n",
       "3         -2.313746         -2.313746         -2.313746         -2.313746   \n",
       "4         -2.284532         -2.284532         -2.284532         -2.284532   \n",
       "\n",
       "   ADS_Index_100319  ADS_Index_100419  ADS_Index_101019  ADS_Index_101719  \\\n",
       "0         -2.395069         -2.395069         -2.395069         -2.395069   \n",
       "1         -2.369012         -2.369012         -2.369012         -2.369012   \n",
       "2         -2.341905         -2.341905         -2.341905         -2.341905   \n",
       "3         -2.313746         -2.313746         -2.313746         -2.313746   \n",
       "4         -2.284532         -2.284532         -2.284532         -2.284532   \n",
       "\n",
       "   ADS_Index_102419  \n",
       "0         -2.395069  \n",
       "1         -2.369012  \n",
       "2         -2.341905  \n",
       "3         -2.313746  \n",
       "4         -2.284532  \n",
       "\n",
       "[5 rows x 72 columns]"
      ]
     },
     "execution_count": 12,
     "metadata": {},
     "output_type": "execute_result"
    }
   ],
   "source": [
    "ads = pd.read_excel(\"../data/ads_vintages-zip.xlsx\")\n",
    "ads.head()"
   ]
  },
  {
   "cell_type": "markdown",
   "metadata": {},
   "source": [
    "### Dropping unwanted columns from ADS Data"
   ]
  },
  {
   "cell_type": "code",
   "execution_count": 13,
   "metadata": {},
   "outputs": [],
   "source": [
    "ADS = ads.loc[:,['Date','ADS_Index_102419']]"
   ]
  },
  {
   "cell_type": "code",
   "execution_count": 14,
   "metadata": {},
   "outputs": [
    {
     "data": {
      "text/html": [
       "<div>\n",
       "<style scoped>\n",
       "    .dataframe tbody tr th:only-of-type {\n",
       "        vertical-align: middle;\n",
       "    }\n",
       "\n",
       "    .dataframe tbody tr th {\n",
       "        vertical-align: top;\n",
       "    }\n",
       "\n",
       "    .dataframe thead th {\n",
       "        text-align: right;\n",
       "    }\n",
       "</style>\n",
       "<table border=\"1\" class=\"dataframe\">\n",
       "  <thead>\n",
       "    <tr style=\"text-align: right;\">\n",
       "      <th></th>\n",
       "      <th>Date</th>\n",
       "      <th>ADS_Index_102419</th>\n",
       "    </tr>\n",
       "  </thead>\n",
       "  <tbody>\n",
       "    <tr>\n",
       "      <th>0</th>\n",
       "      <td>1960-03-01</td>\n",
       "      <td>-2.395069</td>\n",
       "    </tr>\n",
       "    <tr>\n",
       "      <th>1</th>\n",
       "      <td>1960-03-02</td>\n",
       "      <td>-2.369012</td>\n",
       "    </tr>\n",
       "    <tr>\n",
       "      <th>2</th>\n",
       "      <td>1960-03-03</td>\n",
       "      <td>-2.341905</td>\n",
       "    </tr>\n",
       "    <tr>\n",
       "      <th>3</th>\n",
       "      <td>1960-03-04</td>\n",
       "      <td>-2.313746</td>\n",
       "    </tr>\n",
       "    <tr>\n",
       "      <th>4</th>\n",
       "      <td>1960-03-05</td>\n",
       "      <td>-2.284532</td>\n",
       "    </tr>\n",
       "  </tbody>\n",
       "</table>\n",
       "</div>"
      ],
      "text/plain": [
       "        Date  ADS_Index_102419\n",
       "0 1960-03-01         -2.395069\n",
       "1 1960-03-02         -2.369012\n",
       "2 1960-03-03         -2.341905\n",
       "3 1960-03-04         -2.313746\n",
       "4 1960-03-05         -2.284532"
      ]
     },
     "execution_count": 14,
     "metadata": {},
     "output_type": "execute_result"
    }
   ],
   "source": [
    "ADS.head()"
   ]
  },
  {
   "cell_type": "code",
   "execution_count": 15,
   "metadata": {},
   "outputs": [
    {
     "name": "stdout",
     "output_type": "stream",
     "text": [
      "<class 'pandas.core.frame.DataFrame'>\n",
      "RangeIndex: 21855 entries, 0 to 21854\n",
      "Data columns (total 2 columns):\n",
      "Date                21855 non-null datetime64[ns]\n",
      "ADS_Index_102419    21782 non-null float64\n",
      "dtypes: datetime64[ns](1), float64(1)\n",
      "memory usage: 341.6 KB\n"
     ]
    }
   ],
   "source": [
    "ADS.info()"
   ]
  },
  {
   "cell_type": "markdown",
   "metadata": {},
   "source": [
    "# Merging Amazon data with FAMA AND ADS\n"
   ]
  },
  {
   "cell_type": "code",
   "execution_count": 16,
   "metadata": {},
   "outputs": [],
   "source": [
    "amzn_AF = pd.merge(amzn, fama, on='Date')"
   ]
  },
  {
   "cell_type": "code",
   "execution_count": 17,
   "metadata": {},
   "outputs": [
    {
     "data": {
      "text/html": [
       "<div>\n",
       "<style scoped>\n",
       "    .dataframe tbody tr th:only-of-type {\n",
       "        vertical-align: middle;\n",
       "    }\n",
       "\n",
       "    .dataframe tbody tr th {\n",
       "        vertical-align: top;\n",
       "    }\n",
       "\n",
       "    .dataframe thead th {\n",
       "        text-align: right;\n",
       "    }\n",
       "</style>\n",
       "<table border=\"1\" class=\"dataframe\">\n",
       "  <thead>\n",
       "    <tr style=\"text-align: right;\">\n",
       "      <th></th>\n",
       "      <th>Date</th>\n",
       "      <th>Open</th>\n",
       "      <th>Close</th>\n",
       "      <th>High</th>\n",
       "      <th>Low</th>\n",
       "      <th>Volume</th>\n",
       "      <th>Typical_Price</th>\n",
       "      <th>Mkt-RF</th>\n",
       "      <th>SMB</th>\n",
       "      <th>HML</th>\n",
       "      <th>RF</th>\n",
       "    </tr>\n",
       "  </thead>\n",
       "  <tbody>\n",
       "    <tr>\n",
       "      <th>0</th>\n",
       "      <td>2016-01-04</td>\n",
       "      <td>656.289978</td>\n",
       "      <td>636.989990</td>\n",
       "      <td>657.719971</td>\n",
       "      <td>627.510010</td>\n",
       "      <td>9314500</td>\n",
       "      <td>640.739990</td>\n",
       "      <td>-1.59</td>\n",
       "      <td>-0.83</td>\n",
       "      <td>0.53</td>\n",
       "      <td>0.0</td>\n",
       "    </tr>\n",
       "    <tr>\n",
       "      <th>1</th>\n",
       "      <td>2016-01-05</td>\n",
       "      <td>646.859985</td>\n",
       "      <td>633.789978</td>\n",
       "      <td>646.909973</td>\n",
       "      <td>627.650024</td>\n",
       "      <td>5822600</td>\n",
       "      <td>636.116658</td>\n",
       "      <td>0.12</td>\n",
       "      <td>-0.22</td>\n",
       "      <td>0.01</td>\n",
       "      <td>0.0</td>\n",
       "    </tr>\n",
       "    <tr>\n",
       "      <th>2</th>\n",
       "      <td>2016-01-06</td>\n",
       "      <td>622.000000</td>\n",
       "      <td>632.650024</td>\n",
       "      <td>639.789978</td>\n",
       "      <td>620.309998</td>\n",
       "      <td>5329200</td>\n",
       "      <td>630.916667</td>\n",
       "      <td>-1.35</td>\n",
       "      <td>-0.12</td>\n",
       "      <td>-0.01</td>\n",
       "      <td>0.0</td>\n",
       "    </tr>\n",
       "    <tr>\n",
       "      <th>3</th>\n",
       "      <td>2016-01-07</td>\n",
       "      <td>621.799988</td>\n",
       "      <td>607.940002</td>\n",
       "      <td>630.000000</td>\n",
       "      <td>605.210022</td>\n",
       "      <td>7074900</td>\n",
       "      <td>614.383341</td>\n",
       "      <td>-2.44</td>\n",
       "      <td>-0.29</td>\n",
       "      <td>0.08</td>\n",
       "      <td>0.0</td>\n",
       "    </tr>\n",
       "    <tr>\n",
       "      <th>4</th>\n",
       "      <td>2016-01-08</td>\n",
       "      <td>619.659973</td>\n",
       "      <td>607.049988</td>\n",
       "      <td>624.140015</td>\n",
       "      <td>606.000000</td>\n",
       "      <td>5512900</td>\n",
       "      <td>612.396668</td>\n",
       "      <td>-1.11</td>\n",
       "      <td>-0.47</td>\n",
       "      <td>-0.03</td>\n",
       "      <td>0.0</td>\n",
       "    </tr>\n",
       "    <tr>\n",
       "      <th>5</th>\n",
       "      <td>2016-01-11</td>\n",
       "      <td>612.479980</td>\n",
       "      <td>617.739990</td>\n",
       "      <td>619.849976</td>\n",
       "      <td>598.570007</td>\n",
       "      <td>4891600</td>\n",
       "      <td>612.053324</td>\n",
       "      <td>-0.06</td>\n",
       "      <td>-0.65</td>\n",
       "      <td>0.34</td>\n",
       "      <td>0.0</td>\n",
       "    </tr>\n",
       "    <tr>\n",
       "      <th>6</th>\n",
       "      <td>2016-01-12</td>\n",
       "      <td>625.250000</td>\n",
       "      <td>617.890015</td>\n",
       "      <td>625.989990</td>\n",
       "      <td>612.239990</td>\n",
       "      <td>4724100</td>\n",
       "      <td>618.706665</td>\n",
       "      <td>0.71</td>\n",
       "      <td>-0.40</td>\n",
       "      <td>-0.78</td>\n",
       "      <td>0.0</td>\n",
       "    </tr>\n",
       "    <tr>\n",
       "      <th>7</th>\n",
       "      <td>2016-01-13</td>\n",
       "      <td>620.880005</td>\n",
       "      <td>581.809998</td>\n",
       "      <td>620.880005</td>\n",
       "      <td>579.159973</td>\n",
       "      <td>7655200</td>\n",
       "      <td>593.949992</td>\n",
       "      <td>-2.67</td>\n",
       "      <td>-0.69</td>\n",
       "      <td>0.78</td>\n",
       "      <td>0.0</td>\n",
       "    </tr>\n",
       "    <tr>\n",
       "      <th>8</th>\n",
       "      <td>2016-01-14</td>\n",
       "      <td>580.250000</td>\n",
       "      <td>593.000000</td>\n",
       "      <td>602.250000</td>\n",
       "      <td>569.880005</td>\n",
       "      <td>7238000</td>\n",
       "      <td>588.376668</td>\n",
       "      <td>1.65</td>\n",
       "      <td>-0.01</td>\n",
       "      <td>-0.40</td>\n",
       "      <td>0.0</td>\n",
       "    </tr>\n",
       "    <tr>\n",
       "      <th>9</th>\n",
       "      <td>2016-01-15</td>\n",
       "      <td>572.239990</td>\n",
       "      <td>570.179993</td>\n",
       "      <td>584.619995</td>\n",
       "      <td>565.299988</td>\n",
       "      <td>7784500</td>\n",
       "      <td>573.366659</td>\n",
       "      <td>-2.14</td>\n",
       "      <td>0.42</td>\n",
       "      <td>-0.21</td>\n",
       "      <td>0.0</td>\n",
       "    </tr>\n",
       "  </tbody>\n",
       "</table>\n",
       "</div>"
      ],
      "text/plain": [
       "        Date        Open       Close        High         Low   Volume  \\\n",
       "0 2016-01-04  656.289978  636.989990  657.719971  627.510010  9314500   \n",
       "1 2016-01-05  646.859985  633.789978  646.909973  627.650024  5822600   \n",
       "2 2016-01-06  622.000000  632.650024  639.789978  620.309998  5329200   \n",
       "3 2016-01-07  621.799988  607.940002  630.000000  605.210022  7074900   \n",
       "4 2016-01-08  619.659973  607.049988  624.140015  606.000000  5512900   \n",
       "5 2016-01-11  612.479980  617.739990  619.849976  598.570007  4891600   \n",
       "6 2016-01-12  625.250000  617.890015  625.989990  612.239990  4724100   \n",
       "7 2016-01-13  620.880005  581.809998  620.880005  579.159973  7655200   \n",
       "8 2016-01-14  580.250000  593.000000  602.250000  569.880005  7238000   \n",
       "9 2016-01-15  572.239990  570.179993  584.619995  565.299988  7784500   \n",
       "\n",
       "   Typical_Price  Mkt-RF   SMB   HML   RF  \n",
       "0     640.739990   -1.59 -0.83  0.53  0.0  \n",
       "1     636.116658    0.12 -0.22  0.01  0.0  \n",
       "2     630.916667   -1.35 -0.12 -0.01  0.0  \n",
       "3     614.383341   -2.44 -0.29  0.08  0.0  \n",
       "4     612.396668   -1.11 -0.47 -0.03  0.0  \n",
       "5     612.053324   -0.06 -0.65  0.34  0.0  \n",
       "6     618.706665    0.71 -0.40 -0.78  0.0  \n",
       "7     593.949992   -2.67 -0.69  0.78  0.0  \n",
       "8     588.376668    1.65 -0.01 -0.40  0.0  \n",
       "9     573.366659   -2.14  0.42 -0.21  0.0  "
      ]
     },
     "execution_count": 17,
     "metadata": {},
     "output_type": "execute_result"
    }
   ],
   "source": [
    "amzn_AF.head(10)"
   ]
  },
  {
   "cell_type": "code",
   "execution_count": null,
   "metadata": {},
   "outputs": [],
   "source": []
  },
  {
   "cell_type": "code",
   "execution_count": 18,
   "metadata": {},
   "outputs": [
    {
     "data": {
      "text/html": [
       "<div>\n",
       "<style scoped>\n",
       "    .dataframe tbody tr th:only-of-type {\n",
       "        vertical-align: middle;\n",
       "    }\n",
       "\n",
       "    .dataframe tbody tr th {\n",
       "        vertical-align: top;\n",
       "    }\n",
       "\n",
       "    .dataframe thead th {\n",
       "        text-align: right;\n",
       "    }\n",
       "</style>\n",
       "<table border=\"1\" class=\"dataframe\">\n",
       "  <thead>\n",
       "    <tr style=\"text-align: right;\">\n",
       "      <th></th>\n",
       "      <th>Date</th>\n",
       "      <th>Open</th>\n",
       "      <th>Close</th>\n",
       "      <th>High</th>\n",
       "      <th>Low</th>\n",
       "      <th>Volume</th>\n",
       "      <th>Typical_Price</th>\n",
       "      <th>Mkt-RF</th>\n",
       "      <th>SMB</th>\n",
       "      <th>HML</th>\n",
       "      <th>RF</th>\n",
       "      <th>ADS_Index_102419</th>\n",
       "    </tr>\n",
       "  </thead>\n",
       "  <tbody>\n",
       "    <tr>\n",
       "      <th>0</th>\n",
       "      <td>2016-01-04</td>\n",
       "      <td>656.289978</td>\n",
       "      <td>636.989990</td>\n",
       "      <td>657.719971</td>\n",
       "      <td>627.510010</td>\n",
       "      <td>9314500</td>\n",
       "      <td>640.739990</td>\n",
       "      <td>-1.59</td>\n",
       "      <td>-0.83</td>\n",
       "      <td>0.53</td>\n",
       "      <td>0.0</td>\n",
       "      <td>-0.323161</td>\n",
       "    </tr>\n",
       "    <tr>\n",
       "      <th>1</th>\n",
       "      <td>2016-01-05</td>\n",
       "      <td>646.859985</td>\n",
       "      <td>633.789978</td>\n",
       "      <td>646.909973</td>\n",
       "      <td>627.650024</td>\n",
       "      <td>5822600</td>\n",
       "      <td>636.116658</td>\n",
       "      <td>0.12</td>\n",
       "      <td>-0.22</td>\n",
       "      <td>0.01</td>\n",
       "      <td>0.0</td>\n",
       "      <td>-0.308306</td>\n",
       "    </tr>\n",
       "    <tr>\n",
       "      <th>2</th>\n",
       "      <td>2016-01-06</td>\n",
       "      <td>622.000000</td>\n",
       "      <td>632.650024</td>\n",
       "      <td>639.789978</td>\n",
       "      <td>620.309998</td>\n",
       "      <td>5329200</td>\n",
       "      <td>630.916667</td>\n",
       "      <td>-1.35</td>\n",
       "      <td>-0.12</td>\n",
       "      <td>-0.01</td>\n",
       "      <td>0.0</td>\n",
       "      <td>-0.294275</td>\n",
       "    </tr>\n",
       "    <tr>\n",
       "      <th>3</th>\n",
       "      <td>2016-01-07</td>\n",
       "      <td>621.799988</td>\n",
       "      <td>607.940002</td>\n",
       "      <td>630.000000</td>\n",
       "      <td>605.210022</td>\n",
       "      <td>7074900</td>\n",
       "      <td>614.383341</td>\n",
       "      <td>-2.44</td>\n",
       "      <td>-0.29</td>\n",
       "      <td>0.08</td>\n",
       "      <td>0.0</td>\n",
       "      <td>-0.281066</td>\n",
       "    </tr>\n",
       "    <tr>\n",
       "      <th>4</th>\n",
       "      <td>2016-01-08</td>\n",
       "      <td>619.659973</td>\n",
       "      <td>607.049988</td>\n",
       "      <td>624.140015</td>\n",
       "      <td>606.000000</td>\n",
       "      <td>5512900</td>\n",
       "      <td>612.396668</td>\n",
       "      <td>-1.11</td>\n",
       "      <td>-0.47</td>\n",
       "      <td>-0.03</td>\n",
       "      <td>0.0</td>\n",
       "      <td>-0.268678</td>\n",
       "    </tr>\n",
       "  </tbody>\n",
       "</table>\n",
       "</div>"
      ],
      "text/plain": [
       "        Date        Open       Close        High         Low   Volume  \\\n",
       "0 2016-01-04  656.289978  636.989990  657.719971  627.510010  9314500   \n",
       "1 2016-01-05  646.859985  633.789978  646.909973  627.650024  5822600   \n",
       "2 2016-01-06  622.000000  632.650024  639.789978  620.309998  5329200   \n",
       "3 2016-01-07  621.799988  607.940002  630.000000  605.210022  7074900   \n",
       "4 2016-01-08  619.659973  607.049988  624.140015  606.000000  5512900   \n",
       "\n",
       "   Typical_Price  Mkt-RF   SMB   HML   RF  ADS_Index_102419  \n",
       "0     640.739990   -1.59 -0.83  0.53  0.0         -0.323161  \n",
       "1     636.116658    0.12 -0.22  0.01  0.0         -0.308306  \n",
       "2     630.916667   -1.35 -0.12 -0.01  0.0         -0.294275  \n",
       "3     614.383341   -2.44 -0.29  0.08  0.0         -0.281066  \n",
       "4     612.396668   -1.11 -0.47 -0.03  0.0         -0.268678  "
      ]
     },
     "execution_count": 18,
     "metadata": {},
     "output_type": "execute_result"
    }
   ],
   "source": [
    "amzn_AF = pd.merge(amzn_AF, ADS, on='Date')\n",
    "amzn_AF.head()"
   ]
  },
  {
   "cell_type": "code",
   "execution_count": 19,
   "metadata": {},
   "outputs": [],
   "source": [
    "amzn_AF.to_csv('/Users/haroonperveez/Downloads/merged.csv')"
   ]
  },
  {
   "cell_type": "markdown",
   "metadata": {},
   "source": [
    "### Resampling daily data to MONTHLY aggregated data"
   ]
  },
  {
   "cell_type": "code",
   "execution_count": 20,
   "metadata": {},
   "outputs": [],
   "source": [
    "amzn_AF.set_index('Date', inplace=True)"
   ]
  },
  {
   "cell_type": "code",
   "execution_count": 21,
   "metadata": {},
   "outputs": [
    {
     "data": {
      "text/html": [
       "<div>\n",
       "<style scoped>\n",
       "    .dataframe tbody tr th:only-of-type {\n",
       "        vertical-align: middle;\n",
       "    }\n",
       "\n",
       "    .dataframe tbody tr th {\n",
       "        vertical-align: top;\n",
       "    }\n",
       "\n",
       "    .dataframe thead th {\n",
       "        text-align: right;\n",
       "    }\n",
       "</style>\n",
       "<table border=\"1\" class=\"dataframe\">\n",
       "  <thead>\n",
       "    <tr style=\"text-align: right;\">\n",
       "      <th></th>\n",
       "      <th>Open</th>\n",
       "      <th>Close</th>\n",
       "      <th>High</th>\n",
       "      <th>Low</th>\n",
       "      <th>Volume</th>\n",
       "      <th>Typical_Price</th>\n",
       "      <th>Mkt-RF</th>\n",
       "      <th>SMB</th>\n",
       "      <th>HML</th>\n",
       "      <th>RF</th>\n",
       "      <th>ADS_Index_102419</th>\n",
       "    </tr>\n",
       "    <tr>\n",
       "      <th>Date</th>\n",
       "      <th></th>\n",
       "      <th></th>\n",
       "      <th></th>\n",
       "      <th></th>\n",
       "      <th></th>\n",
       "      <th></th>\n",
       "      <th></th>\n",
       "      <th></th>\n",
       "      <th></th>\n",
       "      <th></th>\n",
       "      <th></th>\n",
       "    </tr>\n",
       "  </thead>\n",
       "  <tbody>\n",
       "    <tr>\n",
       "      <th>2016-01-31</th>\n",
       "      <td>603.434204</td>\n",
       "      <td>601.061578</td>\n",
       "      <td>613.208416</td>\n",
       "      <td>589.950526</td>\n",
       "      <td>6.852679e+06</td>\n",
       "      <td>601.406840</td>\n",
       "      <td>-0.301579</td>\n",
       "      <td>-0.186842</td>\n",
       "      <td>0.125263</td>\n",
       "      <td>0.000</td>\n",
       "      <td>-0.231622</td>\n",
       "    </tr>\n",
       "    <tr>\n",
       "      <th>2016-02-29</th>\n",
       "      <td>531.865005</td>\n",
       "      <td>530.620000</td>\n",
       "      <td>539.900002</td>\n",
       "      <td>521.103500</td>\n",
       "      <td>6.207240e+06</td>\n",
       "      <td>530.541167</td>\n",
       "      <td>0.003000</td>\n",
       "      <td>0.041000</td>\n",
       "      <td>-0.025500</td>\n",
       "      <td>0.001</td>\n",
       "      <td>-0.420509</td>\n",
       "    </tr>\n",
       "    <tr>\n",
       "      <th>2016-03-31</th>\n",
       "      <td>570.431366</td>\n",
       "      <td>572.374090</td>\n",
       "      <td>577.272272</td>\n",
       "      <td>563.422730</td>\n",
       "      <td>4.273159e+06</td>\n",
       "      <td>571.023031</td>\n",
       "      <td>0.308636</td>\n",
       "      <td>0.041364</td>\n",
       "      <td>0.050455</td>\n",
       "      <td>0.001</td>\n",
       "      <td>-0.623420</td>\n",
       "    </tr>\n",
       "    <tr>\n",
       "      <th>2016-04-30</th>\n",
       "      <td>613.530951</td>\n",
       "      <td>613.594288</td>\n",
       "      <td>619.647618</td>\n",
       "      <td>607.133333</td>\n",
       "      <td>3.736390e+06</td>\n",
       "      <td>613.458413</td>\n",
       "      <td>0.045714</td>\n",
       "      <td>0.034286</td>\n",
       "      <td>0.154762</td>\n",
       "      <td>0.000</td>\n",
       "      <td>-0.529730</td>\n",
       "    </tr>\n",
       "    <tr>\n",
       "      <th>2016-05-31</th>\n",
       "      <td>694.639526</td>\n",
       "      <td>697.473807</td>\n",
       "      <td>702.979042</td>\n",
       "      <td>690.159526</td>\n",
       "      <td>4.314976e+06</td>\n",
       "      <td>696.870791</td>\n",
       "      <td>0.087143</td>\n",
       "      <td>-0.011429</td>\n",
       "      <td>-0.086190</td>\n",
       "      <td>0.001</td>\n",
       "      <td>-0.447915</td>\n",
       "    </tr>\n",
       "  </tbody>\n",
       "</table>\n",
       "</div>"
      ],
      "text/plain": [
       "                  Open       Close        High         Low        Volume  \\\n",
       "Date                                                                       \n",
       "2016-01-31  603.434204  601.061578  613.208416  589.950526  6.852679e+06   \n",
       "2016-02-29  531.865005  530.620000  539.900002  521.103500  6.207240e+06   \n",
       "2016-03-31  570.431366  572.374090  577.272272  563.422730  4.273159e+06   \n",
       "2016-04-30  613.530951  613.594288  619.647618  607.133333  3.736390e+06   \n",
       "2016-05-31  694.639526  697.473807  702.979042  690.159526  4.314976e+06   \n",
       "\n",
       "            Typical_Price    Mkt-RF       SMB       HML     RF  \\\n",
       "Date                                                             \n",
       "2016-01-31     601.406840 -0.301579 -0.186842  0.125263  0.000   \n",
       "2016-02-29     530.541167  0.003000  0.041000 -0.025500  0.001   \n",
       "2016-03-31     571.023031  0.308636  0.041364  0.050455  0.001   \n",
       "2016-04-30     613.458413  0.045714  0.034286  0.154762  0.000   \n",
       "2016-05-31     696.870791  0.087143 -0.011429 -0.086190  0.001   \n",
       "\n",
       "            ADS_Index_102419  \n",
       "Date                          \n",
       "2016-01-31         -0.231622  \n",
       "2016-02-29         -0.420509  \n",
       "2016-03-31         -0.623420  \n",
       "2016-04-30         -0.529730  \n",
       "2016-05-31         -0.447915  "
      ]
     },
     "execution_count": 21,
     "metadata": {},
     "output_type": "execute_result"
    }
   ],
   "source": [
    "month_agg = amzn_AF.resample('M').mean()\n",
    "month_agg.head()"
   ]
  },
  {
   "cell_type": "markdown",
   "metadata": {},
   "source": [
    "### Calculate log returns for TypicalPrice Month over Month"
   ]
  },
  {
   "cell_type": "code",
   "execution_count": 22,
   "metadata": {},
   "outputs": [
    {
     "data": {
      "text/html": [
       "<div>\n",
       "<style scoped>\n",
       "    .dataframe tbody tr th:only-of-type {\n",
       "        vertical-align: middle;\n",
       "    }\n",
       "\n",
       "    .dataframe tbody tr th {\n",
       "        vertical-align: top;\n",
       "    }\n",
       "\n",
       "    .dataframe thead th {\n",
       "        text-align: right;\n",
       "    }\n",
       "</style>\n",
       "<table border=\"1\" class=\"dataframe\">\n",
       "  <thead>\n",
       "    <tr style=\"text-align: right;\">\n",
       "      <th></th>\n",
       "      <th>Open</th>\n",
       "      <th>Close</th>\n",
       "      <th>High</th>\n",
       "      <th>Low</th>\n",
       "      <th>Volume</th>\n",
       "      <th>Typical_Price</th>\n",
       "      <th>Mkt-RF</th>\n",
       "      <th>SMB</th>\n",
       "      <th>HML</th>\n",
       "      <th>RF</th>\n",
       "      <th>ADS_Index_102419</th>\n",
       "      <th>Typical_Price_MOM</th>\n",
       "      <th>Volume_MOM</th>\n",
       "    </tr>\n",
       "    <tr>\n",
       "      <th>Date</th>\n",
       "      <th></th>\n",
       "      <th></th>\n",
       "      <th></th>\n",
       "      <th></th>\n",
       "      <th></th>\n",
       "      <th></th>\n",
       "      <th></th>\n",
       "      <th></th>\n",
       "      <th></th>\n",
       "      <th></th>\n",
       "      <th></th>\n",
       "      <th></th>\n",
       "      <th></th>\n",
       "    </tr>\n",
       "  </thead>\n",
       "  <tbody>\n",
       "    <tr>\n",
       "      <th>2019-02-28</th>\n",
       "      <td>1626.132626</td>\n",
       "      <td>1626.937365</td>\n",
       "      <td>1640.095806</td>\n",
       "      <td>1612.198955</td>\n",
       "      <td>4.259837e+06</td>\n",
       "      <td>1626.410709</td>\n",
       "      <td>0.176842</td>\n",
       "      <td>0.105263</td>\n",
       "      <td>-0.141579</td>\n",
       "      <td>0.010</td>\n",
       "      <td>-0.477983</td>\n",
       "      <td>-0.629278</td>\n",
       "      <td>-40.409919</td>\n",
       "    </tr>\n",
       "    <tr>\n",
       "      <th>2019-03-31</th>\n",
       "      <td>1719.849040</td>\n",
       "      <td>1722.491909</td>\n",
       "      <td>1737.247634</td>\n",
       "      <td>1705.416190</td>\n",
       "      <td>4.801533e+06</td>\n",
       "      <td>1721.718578</td>\n",
       "      <td>0.054286</td>\n",
       "      <td>-0.145714</td>\n",
       "      <td>-0.197143</td>\n",
       "      <td>0.009</td>\n",
       "      <td>-0.371748</td>\n",
       "      <td>5.694740</td>\n",
       "      <td>11.970445</td>\n",
       "    </tr>\n",
       "    <tr>\n",
       "      <th>2019-04-30</th>\n",
       "      <td>1863.626186</td>\n",
       "      <td>1866.202375</td>\n",
       "      <td>1874.405698</td>\n",
       "      <td>1850.939046</td>\n",
       "      <td>3.868533e+06</td>\n",
       "      <td>1863.849040</td>\n",
       "      <td>0.185238</td>\n",
       "      <td>-0.074762</td>\n",
       "      <td>0.088095</td>\n",
       "      <td>0.010</td>\n",
       "      <td>-0.545594</td>\n",
       "      <td>7.932076</td>\n",
       "      <td>-21.605986</td>\n",
       "    </tr>\n",
       "    <tr>\n",
       "      <th>2019-05-31</th>\n",
       "      <td>1871.653176</td>\n",
       "      <td>1869.383179</td>\n",
       "      <td>1886.184554</td>\n",
       "      <td>1852.757724</td>\n",
       "      <td>4.464291e+06</td>\n",
       "      <td>1869.441819</td>\n",
       "      <td>-0.321364</td>\n",
       "      <td>-0.055000</td>\n",
       "      <td>-0.118636</td>\n",
       "      <td>0.009</td>\n",
       "      <td>-0.371604</td>\n",
       "      <td>0.299617</td>\n",
       "      <td>14.323494</td>\n",
       "    </tr>\n",
       "    <tr>\n",
       "      <th>2019-06-30</th>\n",
       "      <td>1853.170483</td>\n",
       "      <td>1852.617505</td>\n",
       "      <td>1868.866986</td>\n",
       "      <td>1835.976502</td>\n",
       "      <td>3.737325e+06</td>\n",
       "      <td>1852.486997</td>\n",
       "      <td>0.338000</td>\n",
       "      <td>0.017500</td>\n",
       "      <td>-0.051500</td>\n",
       "      <td>0.009</td>\n",
       "      <td>-0.173166</td>\n",
       "      <td>-0.911083</td>\n",
       "      <td>-17.774028</td>\n",
       "    </tr>\n",
       "  </tbody>\n",
       "</table>\n",
       "</div>"
      ],
      "text/plain": [
       "                   Open        Close         High          Low        Volume  \\\n",
       "Date                                                                           \n",
       "2019-02-28  1626.132626  1626.937365  1640.095806  1612.198955  4.259837e+06   \n",
       "2019-03-31  1719.849040  1722.491909  1737.247634  1705.416190  4.801533e+06   \n",
       "2019-04-30  1863.626186  1866.202375  1874.405698  1850.939046  3.868533e+06   \n",
       "2019-05-31  1871.653176  1869.383179  1886.184554  1852.757724  4.464291e+06   \n",
       "2019-06-30  1853.170483  1852.617505  1868.866986  1835.976502  3.737325e+06   \n",
       "\n",
       "            Typical_Price    Mkt-RF       SMB       HML     RF  \\\n",
       "Date                                                             \n",
       "2019-02-28    1626.410709  0.176842  0.105263 -0.141579  0.010   \n",
       "2019-03-31    1721.718578  0.054286 -0.145714 -0.197143  0.009   \n",
       "2019-04-30    1863.849040  0.185238 -0.074762  0.088095  0.010   \n",
       "2019-05-31    1869.441819 -0.321364 -0.055000 -0.118636  0.009   \n",
       "2019-06-30    1852.486997  0.338000  0.017500 -0.051500  0.009   \n",
       "\n",
       "            ADS_Index_102419  Typical_Price_MOM  Volume_MOM  \n",
       "Date                                                         \n",
       "2019-02-28         -0.477983          -0.629278  -40.409919  \n",
       "2019-03-31         -0.371748           5.694740   11.970445  \n",
       "2019-04-30         -0.545594           7.932076  -21.605986  \n",
       "2019-05-31         -0.371604           0.299617   14.323494  \n",
       "2019-06-30         -0.173166          -0.911083  -17.774028  "
      ]
     },
     "execution_count": 22,
     "metadata": {},
     "output_type": "execute_result"
    }
   ],
   "source": [
    "month_agg['Typical_Price_MOM'] = (np.log(month_agg.Typical_Price) - np.log(month_agg.Typical_Price.shift(1))) * 100.\n",
    "month_agg['Volume_MOM'] = (np.log(month_agg.Volume) - np.log(month_agg.Volume.shift(1))) * 100.\n",
    "\n",
    "\n",
    "month_agg.tail()\n"
   ]
  },
  {
   "cell_type": "markdown",
   "metadata": {},
   "source": [
    "### Line Charts to check ADS and Fama Factor Trends with Amazon Typical Price"
   ]
  },
  {
   "cell_type": "code",
   "execution_count": 23,
   "metadata": {},
   "outputs": [
    {
     "data": {
      "text/plain": [
       "<matplotlib.axes._subplots.AxesSubplot at 0x1024e2d588>"
      ]
     },
     "execution_count": 23,
     "metadata": {},
     "output_type": "execute_result"
    },
    {
     "data": {
      "image/png": "[encoded data removed]",
      "text/plain": [
       "<Figure size 1080x288 with 1 Axes>"
      ]
     },
     "metadata": {
      "needs_background": "light"
     },
     "output_type": "display_data"
    }
   ],
   "source": [
    "month_agg[['ADS_Index_102419','SMB','HML']].loc['2016-01-04':].plot(figsize=(15,4), style=['-+','--','-o'], \n",
    "                                                                    title = 'ADS vs SMB vs HML')\n"
   ]
  },
  {
   "cell_type": "code",
   "execution_count": 24,
   "metadata": {},
   "outputs": [
    {
     "data": {
      "text/plain": [
       "<matplotlib.axes._subplots.AxesSubplot at 0x1022796ac8>"
      ]
     },
     "execution_count": 24,
     "metadata": {},
     "output_type": "execute_result"
    },
    {
     "data": {
      "image/png": "[encoded data removed]",
      "text/plain": [
       "<Figure size 1080x288 with 1 Axes>"
      ]
     },
     "metadata": {
      "needs_background": "light"
     },
     "output_type": "display_data"
    }
   ],
   "source": [
    "month_agg[['Typical_Price_MOM']].loc['2016-01-04':].plot(figsize=(15,4), style=['-','b'] , \n",
    "                                                        title = 'AMZN Typical Price Returns')"
   ]
  },
  {
   "cell_type": "markdown",
   "metadata": {},
   "source": [
    "#### We can see AMZN trend is most similar to that of ADS index and SMB index, so we would use thes two as high frequency variables to predict AMZN Quaterly returns"
   ]
  },
  {
   "cell_type": "markdown",
   "metadata": {},
   "source": [
    "### Resampling daily data to Quaterly aggregated data"
   ]
  },
  {
   "cell_type": "code",
   "execution_count": 25,
   "metadata": {},
   "outputs": [],
   "source": [
    "quaterly_agg = amzn_AF.resample('Q').mean()"
   ]
  },
  {
   "cell_type": "code",
   "execution_count": 26,
   "metadata": {},
   "outputs": [
    {
     "data": {
      "text/html": [
       "<div>\n",
       "<style scoped>\n",
       "    .dataframe tbody tr th:only-of-type {\n",
       "        vertical-align: middle;\n",
       "    }\n",
       "\n",
       "    .dataframe tbody tr th {\n",
       "        vertical-align: top;\n",
       "    }\n",
       "\n",
       "    .dataframe thead th {\n",
       "        text-align: right;\n",
       "    }\n",
       "</style>\n",
       "<table border=\"1\" class=\"dataframe\">\n",
       "  <thead>\n",
       "    <tr style=\"text-align: right;\">\n",
       "      <th></th>\n",
       "      <th>Open</th>\n",
       "      <th>Close</th>\n",
       "      <th>High</th>\n",
       "      <th>Low</th>\n",
       "      <th>Volume</th>\n",
       "      <th>Typical_Price</th>\n",
       "      <th>Mkt-RF</th>\n",
       "      <th>SMB</th>\n",
       "      <th>HML</th>\n",
       "      <th>RF</th>\n",
       "      <th>ADS_Index_102419</th>\n",
       "      <th>Typical_Price_QOQ</th>\n",
       "    </tr>\n",
       "    <tr>\n",
       "      <th>Date</th>\n",
       "      <th></th>\n",
       "      <th></th>\n",
       "      <th></th>\n",
       "      <th></th>\n",
       "      <th></th>\n",
       "      <th></th>\n",
       "      <th></th>\n",
       "      <th></th>\n",
       "      <th></th>\n",
       "      <th></th>\n",
       "      <th></th>\n",
       "      <th></th>\n",
       "    </tr>\n",
       "  </thead>\n",
       "  <tbody>\n",
       "    <tr>\n",
       "      <th>2018-06-30</th>\n",
       "      <td>1588.499689</td>\n",
       "      <td>1587.434530</td>\n",
       "      <td>1601.851879</td>\n",
       "      <td>1571.919062</td>\n",
       "      <td>4.491819e+06</td>\n",
       "      <td>1587.068490</td>\n",
       "      <td>0.055313</td>\n",
       "      <td>0.113437</td>\n",
       "      <td>-0.076250</td>\n",
       "      <td>0.006328</td>\n",
       "      <td>0.063044</td>\n",
       "      <td>10.525153</td>\n",
       "    </tr>\n",
       "    <tr>\n",
       "      <th>2018-09-30</th>\n",
       "      <td>1880.047623</td>\n",
       "      <td>1880.693493</td>\n",
       "      <td>1896.665711</td>\n",
       "      <td>1861.189370</td>\n",
       "      <td>4.580038e+06</td>\n",
       "      <td>1879.516191</td>\n",
       "      <td>0.106349</td>\n",
       "      <td>-0.053492</td>\n",
       "      <td>-0.077937</td>\n",
       "      <td>0.007635</td>\n",
       "      <td>0.191399</td>\n",
       "      <td>16.912580</td>\n",
       "    </tr>\n",
       "    <tr>\n",
       "      <th>2018-12-31</th>\n",
       "      <td>1672.156027</td>\n",
       "      <td>1662.728893</td>\n",
       "      <td>1699.961902</td>\n",
       "      <td>1631.938727</td>\n",
       "      <td>7.576563e+06</td>\n",
       "      <td>1664.876507</td>\n",
       "      <td>-0.246825</td>\n",
       "      <td>-0.139365</td>\n",
       "      <td>0.033492</td>\n",
       "      <td>0.008603</td>\n",
       "      <td>-0.025667</td>\n",
       "      <td>-12.126345</td>\n",
       "    </tr>\n",
       "    <tr>\n",
       "      <th>2019-03-31</th>\n",
       "      <td>1660.534420</td>\n",
       "      <td>1664.341315</td>\n",
       "      <td>1679.465586</td>\n",
       "      <td>1644.461478</td>\n",
       "      <td>5.176570e+06</td>\n",
       "      <td>1662.756126</td>\n",
       "      <td>0.208525</td>\n",
       "      <td>0.027049</td>\n",
       "      <td>-0.121639</td>\n",
       "      <td>0.009656</td>\n",
       "      <td>-0.351144</td>\n",
       "      <td>-0.127441</td>\n",
       "    </tr>\n",
       "    <tr>\n",
       "      <th>2019-06-30</th>\n",
       "      <td>1863.109991</td>\n",
       "      <td>1863.000475</td>\n",
       "      <td>1876.760628</td>\n",
       "      <td>1846.824126</td>\n",
       "      <td>4.034922e+06</td>\n",
       "      <td>1862.195076</td>\n",
       "      <td>0.056825</td>\n",
       "      <td>-0.038571</td>\n",
       "      <td>-0.028413</td>\n",
       "      <td>0.009333</td>\n",
       "      <td>-0.366605</td>\n",
       "      <td>11.327940</td>\n",
       "    </tr>\n",
       "  </tbody>\n",
       "</table>\n",
       "</div>"
      ],
      "text/plain": [
       "                   Open        Close         High          Low        Volume  \\\n",
       "Date                                                                           \n",
       "2018-06-30  1588.499689  1587.434530  1601.851879  1571.919062  4.491819e+06   \n",
       "2018-09-30  1880.047623  1880.693493  1896.665711  1861.189370  4.580038e+06   \n",
       "2018-12-31  1672.156027  1662.728893  1699.961902  1631.938727  7.576563e+06   \n",
       "2019-03-31  1660.534420  1664.341315  1679.465586  1644.461478  5.176570e+06   \n",
       "2019-06-30  1863.109991  1863.000475  1876.760628  1846.824126  4.034922e+06   \n",
       "\n",
       "            Typical_Price    Mkt-RF       SMB       HML        RF  \\\n",
       "Date                                                                \n",
       "2018-06-30    1587.068490  0.055313  0.113437 -0.076250  0.006328   \n",
       "2018-09-30    1879.516191  0.106349 -0.053492 -0.077937  0.007635   \n",
       "2018-12-31    1664.876507 -0.246825 -0.139365  0.033492  0.008603   \n",
       "2019-03-31    1662.756126  0.208525  0.027049 -0.121639  0.009656   \n",
       "2019-06-30    1862.195076  0.056825 -0.038571 -0.028413  0.009333   \n",
       "\n",
       "            ADS_Index_102419  Typical_Price_QOQ  \n",
       "Date                                             \n",
       "2018-06-30          0.063044          10.525153  \n",
       "2018-09-30          0.191399          16.912580  \n",
       "2018-12-31         -0.025667         -12.126345  \n",
       "2019-03-31         -0.351144          -0.127441  \n",
       "2019-06-30         -0.366605          11.327940  "
      ]
     },
     "execution_count": 26,
     "metadata": {},
     "output_type": "execute_result"
    }
   ],
   "source": [
    "quaterly_agg\n",
    "quaterly_agg['Typical_Price_QOQ'] = (np.log(quaterly_agg.Typical_Price) - np.log(quaterly_agg.Typical_Price.shift(1))) * 100.\n",
    "quaterly_agg.tail()"
   ]
  },
  {
   "cell_type": "markdown",
   "metadata": {},
   "source": [
    "### Model - 1  using Typical Price \n"
   ]
  },
  {
   "cell_type": "code",
   "execution_count": 27,
   "metadata": {},
   "outputs": [],
   "source": [
    "AllModel_rmse = []"
   ]
  },
  {
   "cell_type": "code",
   "execution_count": 28,
   "metadata": {},
   "outputs": [],
   "source": [
    "y, yl, x, yf, ylf, xf = mix_freq(quaterly_agg.Typical_Price_QOQ,month_agg.Typical_Price_MOM, \"3m\", 1, 3,\n",
    "                                 start_date=datetime.datetime(2016,1,31),\n",
    "                                 end_date=datetime.datetime(2018,6,30))"
   ]
  },
  {
   "cell_type": "code",
   "execution_count": 29,
   "metadata": {},
   "outputs": [
    {
     "name": "stderr",
     "output_type": "stream",
     "text": [
      "/Users/haroonperveez/Machine Learning in Finance/Assignment 2/midas/adl.py:32: FutureWarning: `rcond` parameter will change to the default of machine precision times ``max(M, N)`` where M and N are the input matrix dimensions.\n",
      "To use the future default and silence this warning we advise to pass `rcond=None`, to keep using the old, explicitly pass `rcond=-1`.\n",
      "  c = np.linalg.lstsq(np.concatenate([np.ones((len(xw), 1)), xw.reshape((len(xw), 1)), yl], axis=1), y)[0]\n"
     ]
    },
    {
     "data": {
      "text/plain": [
       "array([14.97685529,  1.55258314,  1.08658955,  3.8561789 , -0.92195455])"
      ]
     },
     "execution_count": 29,
     "metadata": {},
     "output_type": "execute_result"
    }
   ],
   "source": [
    "res = estimate(y, yl, x, poly='beta')\n",
    "res.x"
   ]
  },
  {
   "cell_type": "code",
   "execution_count": 30,
   "metadata": {},
   "outputs": [
    {
     "data": {
      "text/html": [
       "<div>\n",
       "<style scoped>\n",
       "    .dataframe tbody tr th:only-of-type {\n",
       "        vertical-align: middle;\n",
       "    }\n",
       "\n",
       "    .dataframe tbody tr th {\n",
       "        vertical-align: top;\n",
       "    }\n",
       "\n",
       "    .dataframe thead th {\n",
       "        text-align: right;\n",
       "    }\n",
       "</style>\n",
       "<table border=\"1\" class=\"dataframe\">\n",
       "  <thead>\n",
       "    <tr style=\"text-align: right;\">\n",
       "      <th></th>\n",
       "      <th>yfh</th>\n",
       "      <th>Typical_Price_QOQ</th>\n",
       "      <th>gap</th>\n",
       "    </tr>\n",
       "    <tr>\n",
       "      <th>Date</th>\n",
       "      <th></th>\n",
       "      <th></th>\n",
       "      <th></th>\n",
       "    </tr>\n",
       "  </thead>\n",
       "  <tbody>\n",
       "    <tr>\n",
       "      <th>2018-09-30</th>\n",
       "      <td>17.141830</td>\n",
       "      <td>16.912580</td>\n",
       "      <td>-0.229250</td>\n",
       "    </tr>\n",
       "    <tr>\n",
       "      <th>2018-12-31</th>\n",
       "      <td>7.871891</td>\n",
       "      <td>-12.126345</td>\n",
       "      <td>-19.998236</td>\n",
       "    </tr>\n",
       "    <tr>\n",
       "      <th>2019-03-31</th>\n",
       "      <td>13.623424</td>\n",
       "      <td>-0.127441</td>\n",
       "      <td>-13.750865</td>\n",
       "    </tr>\n",
       "    <tr>\n",
       "      <th>2019-06-30</th>\n",
       "      <td>16.604120</td>\n",
       "      <td>11.327940</td>\n",
       "      <td>-5.276180</td>\n",
       "    </tr>\n",
       "  </tbody>\n",
       "</table>\n",
       "</div>"
      ],
      "text/plain": [
       "                  yfh  Typical_Price_QOQ        gap\n",
       "Date                                               \n",
       "2018-09-30  17.141830          16.912580  -0.229250\n",
       "2018-12-31   7.871891         -12.126345 -19.998236\n",
       "2019-03-31  13.623424          -0.127441 -13.750865\n",
       "2019-06-30  16.604120          11.327940  -5.276180"
      ]
     },
     "execution_count": 30,
     "metadata": {},
     "output_type": "execute_result"
    }
   ],
   "source": [
    "fc = forecast(xf, ylf, res, poly='beta')\n",
    "forecast_df = fc.join(yf)\n",
    "forecast_df['gap'] = forecast_df.Typical_Price_QOQ - forecast_df.yfh \n",
    "forecast_df"
   ]
  },
  {
   "cell_type": "code",
   "execution_count": 31,
   "metadata": {},
   "outputs": [
    {
     "data": {
      "text/plain": [
       "<matplotlib.axes._subplots.AxesSubplot at 0x1023bcec50>"
      ]
     },
     "execution_count": 31,
     "metadata": {},
     "output_type": "execute_result"
    },
    {
     "data": {
      "image/png": "[encoded data removed]",
      "text/plain": [
       "<Figure size 1296x288 with 1 Axes>"
      ]
     },
     "metadata": {
      "needs_background": "light"
     },
     "output_type": "display_data"
    }
   ],
   "source": [
    "quaterly_agg.join(fc)[['Typical_Price_QOQ','yfh']].loc['2016-1-31':].plot(style=['-','-+'], figsize=(18, 4))"
   ]
  },
  {
   "cell_type": "code",
   "execution_count": 32,
   "metadata": {},
   "outputs": [
    {
     "data": {
      "text/plain": [
       "12.418799924137089"
      ]
     },
     "execution_count": 32,
     "metadata": {},
     "output_type": "execute_result"
    }
   ],
   "source": [
    "rmse = ((forecast_df.Typical_Price_QOQ - forecast_df.yfh) ** 2).mean() ** .5\n",
    "rmse"
   ]
  },
  {
   "cell_type": "code",
   "execution_count": 33,
   "metadata": {},
   "outputs": [
    {
     "data": {
      "text/plain": [
       "[12.418799924137089]"
      ]
     },
     "execution_count": 33,
     "metadata": {},
     "output_type": "execute_result"
    }
   ],
   "source": [
    "AllModel_rmse.append(rmse)\n",
    "AllModel_rmse"
   ]
  },
  {
   "cell_type": "markdown",
   "metadata": {},
   "source": [
    "### Model 2 - considering typical price and change in volume MOM\n"
   ]
  },
  {
   "cell_type": "code",
   "execution_count": 34,
   "metadata": {},
   "outputs": [],
   "source": [
    "y, yl, x1, x2, yf, ylf, x1f, x2f =mix_freq2(quaterly_agg.Typical_Price_QOQ,month_agg.Volume_MOM,month_agg.Typical_Price_MOM, \"3m\",\"3m\", 1, 3,\n",
    "                                 start_date = datetime.datetime(2016,1,31),\n",
    "                                 end_date = datetime.datetime(2018,6,30))"
   ]
  },
  {
   "cell_type": "code",
   "execution_count": 35,
   "metadata": {},
   "outputs": [
    {
     "name": "stderr",
     "output_type": "stream",
     "text": [
      "/Users/haroonperveez/Machine Learning in Finance/Assignment 2/midas/adl.py:85: FutureWarning: `rcond` parameter will change to the default of machine precision times ``max(M, N)`` where M and N are the input matrix dimensions.\n",
      "To use the future default and silence this warning we advise to pass `rcond=None`, to keep using the old, explicitly pass `rcond=-1`.\n",
      "  c = np.linalg.lstsq(np.concatenate([np.ones((len(xw1), 1)), xw1.reshape((len(xw1), 1)), xw2.reshape((len(xw2), 1)), yl], axis=1), y)[0]\n"
     ]
    },
    {
     "data": {
      "text/plain": [
       "array([  5.74240454,  -0.44764158,   1.6983523 ,  31.25785094,\n",
       "       -10.61899611,  29.85676769, -10.11174687,  -0.29455448])"
      ]
     },
     "execution_count": 35,
     "metadata": {},
     "output_type": "execute_result"
    }
   ],
   "source": [
    "res = estimate2(y, yl, x1, x2, poly1='expalmon', poly2='expalmon')\n",
    "res.x"
   ]
  },
  {
   "cell_type": "code",
   "execution_count": 36,
   "metadata": {},
   "outputs": [
    {
     "data": {
      "text/html": [
       "<div>\n",
       "<style scoped>\n",
       "    .dataframe tbody tr th:only-of-type {\n",
       "        vertical-align: middle;\n",
       "    }\n",
       "\n",
       "    .dataframe tbody tr th {\n",
       "        vertical-align: top;\n",
       "    }\n",
       "\n",
       "    .dataframe thead th {\n",
       "        text-align: right;\n",
       "    }\n",
       "</style>\n",
       "<table border=\"1\" class=\"dataframe\">\n",
       "  <thead>\n",
       "    <tr style=\"text-align: right;\">\n",
       "      <th></th>\n",
       "      <th>yfh</th>\n",
       "      <th>Typical_Price_QOQ</th>\n",
       "      <th>gap</th>\n",
       "    </tr>\n",
       "    <tr>\n",
       "      <th>Date</th>\n",
       "      <th></th>\n",
       "      <th></th>\n",
       "      <th></th>\n",
       "    </tr>\n",
       "  </thead>\n",
       "  <tbody>\n",
       "    <tr>\n",
       "      <th>2018-09-30</th>\n",
       "      <td>18.178012</td>\n",
       "      <td>16.912580</td>\n",
       "      <td>-1.265432</td>\n",
       "    </tr>\n",
       "    <tr>\n",
       "      <th>2018-12-31</th>\n",
       "      <td>5.234748</td>\n",
       "      <td>-12.126345</td>\n",
       "      <td>-17.361092</td>\n",
       "    </tr>\n",
       "    <tr>\n",
       "      <th>2019-03-31</th>\n",
       "      <td>-3.918332</td>\n",
       "      <td>-0.127441</td>\n",
       "      <td>3.790891</td>\n",
       "    </tr>\n",
       "    <tr>\n",
       "      <th>2019-06-30</th>\n",
       "      <td>14.296877</td>\n",
       "      <td>11.327940</td>\n",
       "      <td>-2.968938</td>\n",
       "    </tr>\n",
       "  </tbody>\n",
       "</table>\n",
       "</div>"
      ],
      "text/plain": [
       "                  yfh  Typical_Price_QOQ        gap\n",
       "Date                                               \n",
       "2018-09-30  18.178012          16.912580  -1.265432\n",
       "2018-12-31   5.234748         -12.126345 -17.361092\n",
       "2019-03-31  -3.918332          -0.127441   3.790891\n",
       "2019-06-30  14.296877          11.327940  -2.968938"
      ]
     },
     "execution_count": 36,
     "metadata": {},
     "output_type": "execute_result"
    }
   ],
   "source": [
    "fc = forecast2(x1f, x2f, ylf, res, poly1='expalmon',poly2='expalmon')\n",
    "forecast_df = fc.join(yf)\n",
    "forecast_df['gap'] = forecast_df.Typical_Price_QOQ - forecast_df.yfh  \n",
    "forecast_df"
   ]
  },
  {
   "cell_type": "code",
   "execution_count": 37,
   "metadata": {},
   "outputs": [
    {
     "data": {
      "text/plain": [
       "9.030424920502949"
      ]
     },
     "execution_count": 37,
     "metadata": {},
     "output_type": "execute_result"
    }
   ],
   "source": [
    "rmse = ((forecast_df.Typical_Price_QOQ - forecast_df.yfh) ** 2).mean() ** .5\n",
    "rmse"
   ]
  },
  {
   "cell_type": "code",
   "execution_count": 38,
   "metadata": {},
   "outputs": [
    {
     "data": {
      "text/plain": [
       "<matplotlib.axes._subplots.AxesSubplot at 0x1024ec8c18>"
      ]
     },
     "execution_count": 38,
     "metadata": {},
     "output_type": "execute_result"
    },
    {
     "data": {
      "image/png": "[encoded data removed]",
      "text/plain": [
       "<Figure size 1008x288 with 1 Axes>"
      ]
     },
     "metadata": {
      "needs_background": "light"
     },
     "output_type": "display_data"
    }
   ],
   "source": [
    "quaterly_agg.join(fc)[['Typical_Price_QOQ','yfh']].loc['2016-1-31':].plot(style=['-','-+'], figsize=(14, 4))"
   ]
  },
  {
   "cell_type": "code",
   "execution_count": 39,
   "metadata": {},
   "outputs": [
    {
     "data": {
      "text/plain": [
       "[12.418799924137089, 9.030424920502949]"
      ]
     },
     "execution_count": 39,
     "metadata": {},
     "output_type": "execute_result"
    }
   ],
   "source": [
    "AllModel_rmse.append(rmse)\n",
    "AllModel_rmse"
   ]
  },
  {
   "cell_type": "markdown",
   "metadata": {},
   "source": [
    "### Model - 3 - considering Typical Price and ADS index\n"
   ]
  },
  {
   "cell_type": "code",
   "execution_count": 40,
   "metadata": {},
   "outputs": [],
   "source": [
    "y, yl, x1, x2, yf, ylf, x1f, x2f =mix_freq2(quaterly_agg.Typical_Price_QOQ,month_agg.Typical_Price_MOM,month_agg.ADS_Index_102419, \"3m\",\"3m\", 1, 3,\n",
    "                                 start_date = datetime.datetime(2016,1,31),\n",
    "                                 end_date = datetime.datetime(2018,6,30))"
   ]
  },
  {
   "cell_type": "code",
   "execution_count": 41,
   "metadata": {},
   "outputs": [
    {
     "data": {
      "text/plain": [
       "array([ 14.37987168,   1.14764491,  30.12884617,  54.74782615,\n",
       "       -14.1355132 ,  11.30600261,  -4.7820713 ,  -0.87202512])"
      ]
     },
     "execution_count": 41,
     "metadata": {},
     "output_type": "execute_result"
    }
   ],
   "source": [
    "res = estimate2(y, yl, x1, x2, poly1='expalmon', poly2='expalmon')\n",
    "res.x"
   ]
  },
  {
   "cell_type": "code",
   "execution_count": 42,
   "metadata": {},
   "outputs": [
    {
     "data": {
      "text/html": [
       "<div>\n",
       "<style scoped>\n",
       "    .dataframe tbody tr th:only-of-type {\n",
       "        vertical-align: middle;\n",
       "    }\n",
       "\n",
       "    .dataframe tbody tr th {\n",
       "        vertical-align: top;\n",
       "    }\n",
       "\n",
       "    .dataframe thead th {\n",
       "        text-align: right;\n",
       "    }\n",
       "</style>\n",
       "<table border=\"1\" class=\"dataframe\">\n",
       "  <thead>\n",
       "    <tr style=\"text-align: right;\">\n",
       "      <th></th>\n",
       "      <th>yfh</th>\n",
       "      <th>Typical_Price_QOQ</th>\n",
       "      <th>gap</th>\n",
       "    </tr>\n",
       "    <tr>\n",
       "      <th>Date</th>\n",
       "      <th></th>\n",
       "      <th></th>\n",
       "      <th></th>\n",
       "    </tr>\n",
       "  </thead>\n",
       "  <tbody>\n",
       "    <tr>\n",
       "      <th>2018-09-30</th>\n",
       "      <td>17.704719</td>\n",
       "      <td>16.912580</td>\n",
       "      <td>-0.792139</td>\n",
       "    </tr>\n",
       "    <tr>\n",
       "      <th>2018-12-31</th>\n",
       "      <td>6.342938</td>\n",
       "      <td>-12.126345</td>\n",
       "      <td>-18.469282</td>\n",
       "    </tr>\n",
       "    <tr>\n",
       "      <th>2019-03-31</th>\n",
       "      <td>13.676778</td>\n",
       "      <td>-0.127441</td>\n",
       "      <td>-13.804219</td>\n",
       "    </tr>\n",
       "    <tr>\n",
       "      <th>2019-06-30</th>\n",
       "      <td>2.422415</td>\n",
       "      <td>11.327940</td>\n",
       "      <td>8.905524</td>\n",
       "    </tr>\n",
       "  </tbody>\n",
       "</table>\n",
       "</div>"
      ],
      "text/plain": [
       "                  yfh  Typical_Price_QOQ        gap\n",
       "Date                                               \n",
       "2018-09-30  17.704719          16.912580  -0.792139\n",
       "2018-12-31   6.342938         -12.126345 -18.469282\n",
       "2019-03-31  13.676778          -0.127441 -13.804219\n",
       "2019-06-30   2.422415          11.327940   8.905524"
      ]
     },
     "execution_count": 42,
     "metadata": {},
     "output_type": "execute_result"
    }
   ],
   "source": [
    "fc = forecast2(x1f, x2f, ylf, res, poly1='expalmon',poly2='expalmon')\n",
    "forecast_df = fc.join(yf)\n",
    "forecast_df['gap'] = forecast_df.Typical_Price_QOQ - forecast_df.yfh  \n",
    "forecast_df"
   ]
  },
  {
   "cell_type": "code",
   "execution_count": 43,
   "metadata": {},
   "outputs": [
    {
     "data": {
      "text/plain": [
       "<matplotlib.axes._subplots.AxesSubplot at 0x10256ab4e0>"
      ]
     },
     "execution_count": 43,
     "metadata": {},
     "output_type": "execute_result"
    },
    {
     "data": {
      "image/png": "[encoded data removed]",
      "text/plain": [
       "<Figure size 1008x288 with 1 Axes>"
      ]
     },
     "metadata": {
      "needs_background": "light"
     },
     "output_type": "display_data"
    }
   ],
   "source": [
    "quaterly_agg.join(fc)[['Typical_Price_QOQ','yfh']].loc['2016-1-31':].plot(style=['-','-+'], figsize=(14, 4))"
   ]
  },
  {
   "cell_type": "code",
   "execution_count": 44,
   "metadata": {},
   "outputs": [
    {
     "data": {
      "text/plain": [
       "12.365341678364334"
      ]
     },
     "execution_count": 44,
     "metadata": {},
     "output_type": "execute_result"
    }
   ],
   "source": [
    "rmse = ((forecast_df.Typical_Price_QOQ - forecast_df.yfh) ** 2).mean() ** .5\n",
    "rmse"
   ]
  },
  {
   "cell_type": "code",
   "execution_count": 45,
   "metadata": {},
   "outputs": [
    {
     "data": {
      "text/plain": [
       "[12.418799924137089, 9.030424920502949, 12.365341678364334]"
      ]
     },
     "execution_count": 45,
     "metadata": {},
     "output_type": "execute_result"
    }
   ],
   "source": [
    "AllModel_rmse.append(rmse)\n",
    "AllModel_rmse"
   ]
  },
  {
   "cell_type": "markdown",
   "metadata": {},
   "source": [
    "### Model 4 - using Typical Price and SMB \n"
   ]
  },
  {
   "cell_type": "code",
   "execution_count": 46,
   "metadata": {},
   "outputs": [],
   "source": [
    "y, yl, x1, x2, yf, ylf, x1f, x2f =mix_freq2(quaterly_agg.Typical_Price_QOQ,month_agg.Typical_Price_MOM,month_agg.SMB, \"3m\",\"3m\", 1, 3,\n",
    "                                 start_date = datetime.datetime(2016,1,31),\n",
    "                                 end_date = datetime.datetime(2018,6,30))"
   ]
  },
  {
   "cell_type": "code",
   "execution_count": 47,
   "metadata": {},
   "outputs": [
    {
     "data": {
      "text/plain": [
       "array([ 12.75734979,   1.67324987, -42.10639538,  83.28213468,\n",
       "       -27.14804925, -12.59763034,  56.18519856,  -0.97014458])"
      ]
     },
     "execution_count": 47,
     "metadata": {},
     "output_type": "execute_result"
    }
   ],
   "source": [
    "res = estimate2(y, yl, x1, x2, poly1='expalmon', poly2='expalmon')\n",
    "res.x"
   ]
  },
  {
   "cell_type": "code",
   "execution_count": 48,
   "metadata": {},
   "outputs": [
    {
     "data": {
      "text/html": [
       "<div>\n",
       "<style scoped>\n",
       "    .dataframe tbody tr th:only-of-type {\n",
       "        vertical-align: middle;\n",
       "    }\n",
       "\n",
       "    .dataframe tbody tr th {\n",
       "        vertical-align: top;\n",
       "    }\n",
       "\n",
       "    .dataframe thead th {\n",
       "        text-align: right;\n",
       "    }\n",
       "</style>\n",
       "<table border=\"1\" class=\"dataframe\">\n",
       "  <thead>\n",
       "    <tr style=\"text-align: right;\">\n",
       "      <th></th>\n",
       "      <th>yfh</th>\n",
       "      <th>Typical_Price_QOQ</th>\n",
       "      <th>gap</th>\n",
       "    </tr>\n",
       "    <tr>\n",
       "      <th>Date</th>\n",
       "      <th></th>\n",
       "      <th></th>\n",
       "      <th></th>\n",
       "    </tr>\n",
       "  </thead>\n",
       "  <tbody>\n",
       "    <tr>\n",
       "      <th>2018-09-30</th>\n",
       "      <td>13.473777</td>\n",
       "      <td>16.912580</td>\n",
       "      <td>3.438803</td>\n",
       "    </tr>\n",
       "    <tr>\n",
       "      <th>2018-12-31</th>\n",
       "      <td>10.188815</td>\n",
       "      <td>-12.126345</td>\n",
       "      <td>-22.315159</td>\n",
       "    </tr>\n",
       "    <tr>\n",
       "      <th>2019-03-31</th>\n",
       "      <td>19.302598</td>\n",
       "      <td>-0.127441</td>\n",
       "      <td>-19.430039</td>\n",
       "    </tr>\n",
       "    <tr>\n",
       "      <th>2019-06-30</th>\n",
       "      <td>7.847068</td>\n",
       "      <td>11.327940</td>\n",
       "      <td>3.480872</td>\n",
       "    </tr>\n",
       "  </tbody>\n",
       "</table>\n",
       "</div>"
      ],
      "text/plain": [
       "                  yfh  Typical_Price_QOQ        gap\n",
       "Date                                               \n",
       "2018-09-30  13.473777          16.912580   3.438803\n",
       "2018-12-31  10.188815         -12.126345 -22.315159\n",
       "2019-03-31  19.302598          -0.127441 -19.430039\n",
       "2019-06-30   7.847068          11.327940   3.480872"
      ]
     },
     "execution_count": 48,
     "metadata": {},
     "output_type": "execute_result"
    }
   ],
   "source": [
    "fc = forecast2(x1f, x2f, ylf, res, poly1='expalmon',poly2='expalmon')\n",
    "forecast_df = fc.join(yf)\n",
    "forecast_df['gap'] = forecast_df.Typical_Price_QOQ - forecast_df.yfh  \n",
    "forecast_df"
   ]
  },
  {
   "cell_type": "code",
   "execution_count": 49,
   "metadata": {},
   "outputs": [
    {
     "data": {
      "text/plain": [
       "<matplotlib.axes._subplots.AxesSubplot at 0x1025841908>"
      ]
     },
     "execution_count": 49,
     "metadata": {},
     "output_type": "execute_result"
    },
    {
     "data": {
      "image/png": "[encoded data removed]",
      "text/plain": [
       "<Figure size 1008x288 with 1 Axes>"
      ]
     },
     "metadata": {
      "needs_background": "light"
     },
     "output_type": "display_data"
    }
   ],
   "source": [
    "quaterly_agg.join(fc)[['Typical_Price_QOQ','yfh']].loc['2016-1-31':].plot(style=['-','-+'], figsize=(14, 4))"
   ]
  },
  {
   "cell_type": "code",
   "execution_count": 50,
   "metadata": {},
   "outputs": [
    {
     "data": {
      "text/plain": [
       "14.995287417183233"
      ]
     },
     "execution_count": 50,
     "metadata": {},
     "output_type": "execute_result"
    }
   ],
   "source": [
    "rmse = ((forecast_df.Typical_Price_QOQ - forecast_df.yfh) ** 2).mean() ** .5\n",
    "rmse"
   ]
  },
  {
   "cell_type": "code",
   "execution_count": 51,
   "metadata": {},
   "outputs": [
    {
     "data": {
      "text/plain": [
       "[12.418799924137089, 9.030424920502949, 12.365341678364334, 14.995287417183233]"
      ]
     },
     "execution_count": 51,
     "metadata": {},
     "output_type": "execute_result"
    }
   ],
   "source": [
    "AllModel_rmse.append(rmse)\n",
    "AllModel_rmse"
   ]
  },
  {
   "cell_type": "markdown",
   "metadata": {},
   "source": [
    "### RMSE Graph"
   ]
  },
  {
   "cell_type": "code",
   "execution_count": 52,
   "metadata": {},
   "outputs": [
    {
     "data": {
      "image/png": "[encoded data removed]",
      "text/plain": [
       "<Figure size 432x288 with 1 Axes>"
      ]
     },
     "metadata": {
      "needs_background": "light"
     },
     "output_type": "display_data"
    }
   ],
   "source": [
    "plt.scatter([1,2,3,4],list(AllModel_rmse) )\n",
    "plt.plot([1,2,3,4],list(AllModel_rmse))\n",
    "plt.xlabel('Model No')\n",
    "plt.ylabel('RMSE')\n",
    "plt.title('RMSE Curvve')\n",
    "plt.show()\n"
   ]
  },
  {
   "cell_type": "markdown",
   "metadata": {},
   "source": [
    "### Checking for Optimum horizons in model 2"
   ]
  },
  {
   "cell_type": "code",
   "execution_count": 53,
   "metadata": {},
   "outputs": [],
   "source": [
    "y, yl, x1, x2, yf, ylf, x1f, x2f =mix_freq2(quaterly_agg.Typical_Price_QOQ,month_agg.Volume_MOM,month_agg.Typical_Price_MOM, \"3m\",\"3m\", 1, 4,\n",
    "                                 start_date = datetime.datetime(2016,1,31),\n",
    "                                 end_date = datetime.datetime(2018,6,30))"
   ]
  },
  {
   "cell_type": "code",
   "execution_count": 54,
   "metadata": {},
   "outputs": [
    {
     "data": {
      "text/plain": [
       "array([ 15.71586945,   0.23088182,   1.71536194, -10.42493607,\n",
       "         2.69897618,  -3.96906067,  -6.19974111,  -0.96915381])"
      ]
     },
     "execution_count": 54,
     "metadata": {},
     "output_type": "execute_result"
    }
   ],
   "source": [
    "res = estimate2(y, yl, x1, x2, poly1='expalmon', poly2='expalmon')\n",
    "res.x"
   ]
  },
  {
   "cell_type": "code",
   "execution_count": 55,
   "metadata": {},
   "outputs": [
    {
     "data": {
      "text/html": [
       "<div>\n",
       "<style scoped>\n",
       "    .dataframe tbody tr th:only-of-type {\n",
       "        vertical-align: middle;\n",
       "    }\n",
       "\n",
       "    .dataframe tbody tr th {\n",
       "        vertical-align: top;\n",
       "    }\n",
       "\n",
       "    .dataframe thead th {\n",
       "        text-align: right;\n",
       "    }\n",
       "</style>\n",
       "<table border=\"1\" class=\"dataframe\">\n",
       "  <thead>\n",
       "    <tr style=\"text-align: right;\">\n",
       "      <th></th>\n",
       "      <th>yfh</th>\n",
       "      <th>Typical_Price_QOQ</th>\n",
       "      <th>gap</th>\n",
       "    </tr>\n",
       "    <tr>\n",
       "      <th>Date</th>\n",
       "      <th></th>\n",
       "      <th></th>\n",
       "      <th></th>\n",
       "    </tr>\n",
       "  </thead>\n",
       "  <tbody>\n",
       "    <tr>\n",
       "      <th>2018-09-30</th>\n",
       "      <td>12.356687</td>\n",
       "      <td>16.912580</td>\n",
       "      <td>4.555893</td>\n",
       "    </tr>\n",
       "    <tr>\n",
       "      <th>2018-12-31</th>\n",
       "      <td>12.611929</td>\n",
       "      <td>-12.126345</td>\n",
       "      <td>-24.738274</td>\n",
       "    </tr>\n",
       "    <tr>\n",
       "      <th>2019-03-31</th>\n",
       "      <td>12.719434</td>\n",
       "      <td>-0.127441</td>\n",
       "      <td>-12.846875</td>\n",
       "    </tr>\n",
       "    <tr>\n",
       "      <th>2019-06-30</th>\n",
       "      <td>14.789736</td>\n",
       "      <td>11.327940</td>\n",
       "      <td>-3.461797</td>\n",
       "    </tr>\n",
       "  </tbody>\n",
       "</table>\n",
       "</div>"
      ],
      "text/plain": [
       "                  yfh  Typical_Price_QOQ        gap\n",
       "Date                                               \n",
       "2018-09-30  12.356687          16.912580   4.555893\n",
       "2018-12-31  12.611929         -12.126345 -24.738274\n",
       "2019-03-31  12.719434          -0.127441 -12.846875\n",
       "2019-06-30  14.789736          11.327940  -3.461797"
      ]
     },
     "execution_count": 55,
     "metadata": {},
     "output_type": "execute_result"
    }
   ],
   "source": [
    "fc = forecast2(x1f, x2f, ylf, res, poly1='expalmon',poly2='expalmon')\n",
    "forecast_df = fc.join(yf)\n",
    "forecast_df['gap'] = forecast_df.Typical_Price_QOQ - forecast_df.yfh  \n",
    "forecast_df"
   ]
  },
  {
   "cell_type": "code",
   "execution_count": 56,
   "metadata": {},
   "outputs": [
    {
     "data": {
      "text/plain": [
       "<matplotlib.axes._subplots.AxesSubplot at 0x10259b8978>"
      ]
     },
     "execution_count": 56,
     "metadata": {},
     "output_type": "execute_result"
    },
    {
     "data": {
      "image/png": "[encoded data removed]",
      "text/plain": [
       "<Figure size 1008x288 with 1 Axes>"
      ]
     },
     "metadata": {
      "needs_background": "light"
     },
     "output_type": "display_data"
    }
   ],
   "source": [
    "quaterly_agg.join(fc)[['Typical_Price_QOQ','yfh']].loc['2016-1-31':].plot(style=['-','-+'], figsize=(14, 4))"
   ]
  },
  {
   "cell_type": "code",
   "execution_count": 57,
   "metadata": {},
   "outputs": [
    {
     "data": {
      "text/plain": [
       "14.228181456005398"
      ]
     },
     "execution_count": 57,
     "metadata": {},
     "output_type": "execute_result"
    }
   ],
   "source": [
    "rmse = ((forecast_df.Typical_Price_QOQ - forecast_df.yfh) ** 2).mean() ** .5\n",
    "rmse"
   ]
  },
  {
   "cell_type": "markdown",
   "metadata": {},
   "source": [
    "### We can observe by increasing horizon, we do generalize the model around mean and it does not follow the predictive trend,we can chose 3 as optimal horizon"
   ]
  },
  {
   "cell_type": "markdown",
   "metadata": {},
   "source": [
    "### Retaining it for 3 Horizon - Model 2"
   ]
  },
  {
   "cell_type": "code",
   "execution_count": 58,
   "metadata": {},
   "outputs": [],
   "source": [
    "y, yl, x1, x2, yf, ylf, x1f, x2f =mix_freq2(quaterly_agg.Typical_Price_QOQ,month_agg.Volume_MOM,month_agg.Typical_Price_MOM, \"3m\",\"3m\", 1, 3,\n",
    "                                 start_date = datetime.datetime(2016,1,31),\n",
    "                                 end_date = datetime.datetime(2018,3,31))"
   ]
  },
  {
   "cell_type": "code",
   "execution_count": 59,
   "metadata": {},
   "outputs": [
    {
     "data": {
      "text/plain": [
       "array([ 17.6301778 ,  -0.20227221,   1.51940622,  22.59972048,\n",
       "        -7.70066138,  65.0703131 , -16.44713711,  -1.51776483])"
      ]
     },
     "execution_count": 59,
     "metadata": {},
     "output_type": "execute_result"
    }
   ],
   "source": [
    "res = estimate2(y, yl, x1, x2, poly1='expalmon', poly2='expalmon')\n",
    "res.x"
   ]
  },
  {
   "cell_type": "code",
   "execution_count": 60,
   "metadata": {},
   "outputs": [
    {
     "data": {
      "text/html": [
       "<div>\n",
       "<style scoped>\n",
       "    .dataframe tbody tr th:only-of-type {\n",
       "        vertical-align: middle;\n",
       "    }\n",
       "\n",
       "    .dataframe tbody tr th {\n",
       "        vertical-align: top;\n",
       "    }\n",
       "\n",
       "    .dataframe thead th {\n",
       "        text-align: right;\n",
       "    }\n",
       "</style>\n",
       "<table border=\"1\" class=\"dataframe\">\n",
       "  <thead>\n",
       "    <tr style=\"text-align: right;\">\n",
       "      <th></th>\n",
       "      <th>yfh</th>\n",
       "      <th>Typical_Price_QOQ</th>\n",
       "      <th>gap</th>\n",
       "    </tr>\n",
       "    <tr>\n",
       "      <th>Date</th>\n",
       "      <th></th>\n",
       "      <th></th>\n",
       "      <th></th>\n",
       "    </tr>\n",
       "  </thead>\n",
       "  <tbody>\n",
       "    <tr>\n",
       "      <th>2018-06-30</th>\n",
       "      <td>-8.403542</td>\n",
       "      <td>10.525153</td>\n",
       "      <td>18.928695</td>\n",
       "    </tr>\n",
       "    <tr>\n",
       "      <th>2018-09-30</th>\n",
       "      <td>15.921161</td>\n",
       "      <td>16.912580</td>\n",
       "      <td>0.991420</td>\n",
       "    </tr>\n",
       "    <tr>\n",
       "      <th>2018-12-31</th>\n",
       "      <td>-0.137239</td>\n",
       "      <td>-12.126345</td>\n",
       "      <td>-11.989106</td>\n",
       "    </tr>\n",
       "    <tr>\n",
       "      <th>2019-03-31</th>\n",
       "      <td>20.386244</td>\n",
       "      <td>-0.127441</td>\n",
       "      <td>-20.513685</td>\n",
       "    </tr>\n",
       "    <tr>\n",
       "      <th>2019-06-30</th>\n",
       "      <td>18.440631</td>\n",
       "      <td>11.327940</td>\n",
       "      <td>-7.112691</td>\n",
       "    </tr>\n",
       "  </tbody>\n",
       "</table>\n",
       "</div>"
      ],
      "text/plain": [
       "                  yfh  Typical_Price_QOQ        gap\n",
       "Date                                               \n",
       "2018-06-30  -8.403542          10.525153  18.928695\n",
       "2018-09-30  15.921161          16.912580   0.991420\n",
       "2018-12-31  -0.137239         -12.126345 -11.989106\n",
       "2019-03-31  20.386244          -0.127441 -20.513685\n",
       "2019-06-30  18.440631          11.327940  -7.112691"
      ]
     },
     "execution_count": 60,
     "metadata": {},
     "output_type": "execute_result"
    }
   ],
   "source": [
    "fc = forecast2(x1f, x2f, ylf, res, poly1='expalmon',poly2='expalmon')\n",
    "forecast_df = fc.join(yf)\n",
    "forecast_df['gap'] = forecast_df.Typical_Price_QOQ - forecast_df.yfh  \n",
    "forecast_df"
   ]
  },
  {
   "cell_type": "code",
   "execution_count": 61,
   "metadata": {},
   "outputs": [
    {
     "data": {
      "text/plain": [
       "<matplotlib.axes._subplots.AxesSubplot at 0x1025afac18>"
      ]
     },
     "execution_count": 61,
     "metadata": {},
     "output_type": "execute_result"
    },
    {
     "data": {
      "image/png": "[encoded data removed]",
      "text/plain": [
       "<Figure size 1008x288 with 1 Axes>"
      ]
     },
     "metadata": {
      "needs_background": "light"
     },
     "output_type": "display_data"
    }
   ],
   "source": [
    "quaterly_agg.join(fc)[['Typical_Price_QOQ','yfh']].loc['2016-1-31':].plot(style=['-','-+'], figsize=(14, 4))"
   ]
  },
  {
   "cell_type": "code",
   "execution_count": 62,
   "metadata": {},
   "outputs": [
    {
     "data": {
      "text/plain": [
       "13.960076483012912"
      ]
     },
     "execution_count": 62,
     "metadata": {},
     "output_type": "execute_result"
    }
   ],
   "source": [
    "rmse = ((forecast_df.Typical_Price_QOQ - forecast_df.yfh) ** 2).mean() ** .5\n",
    "rmse"
   ]
  },
  {
   "cell_type": "code",
   "execution_count": 63,
   "metadata": {},
   "outputs": [
    {
     "data": {
      "text/html": [
       "<div>\n",
       "<style scoped>\n",
       "    .dataframe tbody tr th:only-of-type {\n",
       "        vertical-align: middle;\n",
       "    }\n",
       "\n",
       "    .dataframe tbody tr th {\n",
       "        vertical-align: top;\n",
       "    }\n",
       "\n",
       "    .dataframe thead th {\n",
       "        text-align: right;\n",
       "    }\n",
       "</style>\n",
       "<table border=\"1\" class=\"dataframe\">\n",
       "  <thead>\n",
       "    <tr style=\"text-align: right;\">\n",
       "      <th></th>\n",
       "      <th>yfh</th>\n",
       "      <th>Typical_Price_QOQ</th>\n",
       "      <th>gap</th>\n",
       "    </tr>\n",
       "    <tr>\n",
       "      <th>Date</th>\n",
       "      <th></th>\n",
       "      <th></th>\n",
       "      <th></th>\n",
       "    </tr>\n",
       "  </thead>\n",
       "  <tbody>\n",
       "    <tr>\n",
       "      <th>2018-06-30</th>\n",
       "      <td>-8.403542</td>\n",
       "      <td>10.525153</td>\n",
       "      <td>18.928695</td>\n",
       "    </tr>\n",
       "    <tr>\n",
       "      <th>2018-09-30</th>\n",
       "      <td>15.921161</td>\n",
       "      <td>16.912580</td>\n",
       "      <td>0.991420</td>\n",
       "    </tr>\n",
       "    <tr>\n",
       "      <th>2018-12-31</th>\n",
       "      <td>-0.137239</td>\n",
       "      <td>-12.126345</td>\n",
       "      <td>-11.989106</td>\n",
       "    </tr>\n",
       "    <tr>\n",
       "      <th>2019-03-31</th>\n",
       "      <td>20.386244</td>\n",
       "      <td>-0.127441</td>\n",
       "      <td>-20.513685</td>\n",
       "    </tr>\n",
       "    <tr>\n",
       "      <th>2019-06-30</th>\n",
       "      <td>18.440631</td>\n",
       "      <td>11.327940</td>\n",
       "      <td>-7.112691</td>\n",
       "    </tr>\n",
       "  </tbody>\n",
       "</table>\n",
       "</div>"
      ],
      "text/plain": [
       "                  yfh  Typical_Price_QOQ        gap\n",
       "Date                                               \n",
       "2018-06-30  -8.403542          10.525153  18.928695\n",
       "2018-09-30  15.921161          16.912580   0.991420\n",
       "2018-12-31  -0.137239         -12.126345 -11.989106\n",
       "2019-03-31  20.386244          -0.127441 -20.513685\n",
       "2019-06-30  18.440631          11.327940  -7.112691"
      ]
     },
     "execution_count": 63,
     "metadata": {},
     "output_type": "execute_result"
    }
   ],
   "source": [
    "forecast_df"
   ]
  },
  {
   "cell_type": "code",
   "execution_count": 64,
   "metadata": {},
   "outputs": [],
   "source": [
    "y_pred = [] * 10\n",
    "\n",
    "for i in range(len(forecast_df)+1):\n",
    "    if i == 0:\n",
    "        y_pred.append(1587.068490)\n",
    "    else:\n",
    "        y_pred.append(math.exp(forecast_df['yfh'][i-1]/100) * y_pred[i-1])"
   ]
  },
  {
   "cell_type": "code",
   "execution_count": 65,
   "metadata": {},
   "outputs": [
    {
     "data": {
      "text/plain": [
       "[1587.06849,\n",
       " 1459.1486974741615,\n",
       " 1710.977401238427,\n",
       " 1708.6308829673453,\n",
       " 2095.002682249509]"
      ]
     },
     "execution_count": 65,
     "metadata": {},
     "output_type": "execute_result"
    }
   ],
   "source": [
    "y_pred[0:-1]"
   ]
  },
  {
   "cell_type": "code",
   "execution_count": 66,
   "metadata": {},
   "outputs": [
    {
     "data": {
      "text/plain": [
       "Date\n",
       "2018-09-30    1879.516191\n",
       "2018-12-31    1664.876507\n",
       "2019-03-31    1662.756126\n",
       "2019-06-30    1862.195076\n",
       "Freq: Q-DEC, Name: Typical_Price, dtype: float64"
      ]
     },
     "execution_count": 66,
     "metadata": {},
     "output_type": "execute_result"
    }
   ],
   "source": [
    "quaterly_agg.Typical_Price['2018-09-30':]"
   ]
  },
  {
   "cell_type": "code",
   "execution_count": 67,
   "metadata": {},
   "outputs": [],
   "source": [
    "Trading_df = pd.DataFrame({'Actual_Typical_Price':quaterly_agg.Typical_Price['2018-06-30':],\n",
    "                           'Predicted_Typical_Price' : y_pred[0:-1]\n",
    "                          })"
   ]
  },
  {
   "cell_type": "code",
   "execution_count": null,
   "metadata": {},
   "outputs": [],
   "source": []
  },
  {
   "cell_type": "markdown",
   "metadata": {},
   "source": [
    "# Monthly Trading Strategy for MIDAS"
   ]
  },
  {
   "cell_type": "code",
   "execution_count": 68,
   "metadata": {},
   "outputs": [
    {
     "name": "stdout",
     "output_type": "stream",
     "text": [
      "Stock: 1587.068490359375 Action: Price-Prediction-Already-Lower Portfolio: 0 Stocks: 0 Balance_init: 0 total($) 10000\n",
      "Stock: 1879.5161914444452 Action: Price-Prediction-Already-Lower Portfolio: 0 Stocks: 0 Balance_init: 0 total($) 10000\n",
      "Stock: 1664.876507460317 Action: Buy Portfolio: 9989.26 Stocks: 6 Balance_init: 10 total($) 9999.26\n",
      "Stock: 1662.756126234972 Action: Bought--Holding Portfolio: 9976.54 Stocks: 6 Balance_init: 10 total($) 9986.54\n"
     ]
    }
   ],
   "source": [
    "amount = 10000\n",
    "signal = 0\n",
    "Amount = []\n",
    "balance = 0\n",
    "action = []\n",
    "portfolio = 0\n",
    "Portfolio = []\n",
    "stocks = 0\n",
    "Stocks = []\n",
    "\n",
    "for i in range(len(Trading_df)-1):\n",
    "    if Trading_df['Predicted_Typical_Price'][i+1] > Trading_df['Actual_Typical_Price'][i]:\n",
    "        if signal == 0:\n",
    "            action.append('Buy')\n",
    "            stocks = int(amount / Trading_df['Actual_Typical_Price'][i])\n",
    "            balance = int(amount % Trading_df['Actual_Typical_Price'][i])\n",
    "            portfolio = stocks * Trading_df['Actual_Typical_Price'][i]\n",
    "            signal = 1\n",
    "            amount = portfolio + balance\n",
    "            print('Stock:',Trading_df['Actual_Typical_Price'][i] ,'Action:',action[i],'Portfolio:',round(portfolio,2),'Stocks:', stocks,'Balance_init:',balance,'total($)',round(amount,2))\n",
    "            Portfolio.append(round(portfolio,5))\n",
    "            Amount.append(round(amount,0))\n",
    "            Stocks.append(stocks)\n",
    "        else:\n",
    "            action.append('Bought--Holding')\n",
    "            portfolio = stocks * Trading_df['Actual_Typical_Price'][i]\n",
    "            amount = portfolio + balance\n",
    "            print('Stock:',Trading_df['Actual_Typical_Price'][i],'Action:',action[i],'Portfolio:',round(portfolio,2),'Stocks:', stocks,'Balance_init:',balance,'total($)',round(amount,2))\n",
    "            Portfolio.append(round(portfolio,5))\n",
    "            Amount.append(round(amount,0))\n",
    "            Stocks.append(stocks)\n",
    "            \n",
    "    elif Trading_df['Predicted_Typical_Price'][i+1] < Trading_df['Actual_Typical_Price'][i]:\n",
    "        if signal == 1:\n",
    "            action.append('Sell')\n",
    "            portfolio = stocks * Trading_df['Actual_Typical_Price'][i]\n",
    "            \n",
    "            signal = 0\n",
    "            stocks = 0\n",
    "            amount = balance + portfolio\n",
    "            portfolio = 0\n",
    "            balance = 0\n",
    "            print('Stock:',Trading_df['Actual_Typical_Price'][i],'Action:',action[i],'Portfolio:',round(portfolio,2),'Stocks:', stocks,'Balance_init:',balance,'total($)',round(amount,2))\n",
    "            Portfolio.append(round(portfolio,5))\n",
    "            Amount.append(round(amount,0))\n",
    "            Stocks.append(stocks)\n",
    "        else:\n",
    "            action.append('Price-Prediction-Already-Lower')\n",
    "            print('Stock:',Trading_df['Actual_Typical_Price'][i],'Action:',action[i],'Portfolio:',round(portfolio,2),'Stocks:', stocks,'Balance_init:',balance,'total($)',round(amount,2))\n",
    "            Portfolio.append(round(portfolio,5))\n",
    "            Amount.append(round(amount,0))\n",
    "            Stocks.append(stocks)\n",
    " \n",
    "\n"
   ]
  },
  {
   "cell_type": "code",
   "execution_count": 69,
   "metadata": {},
   "outputs": [
    {
     "data": {
      "text/plain": [
       "[10000, 10000, 9999.0, 9987.0]"
      ]
     },
     "execution_count": 69,
     "metadata": {},
     "output_type": "execute_result"
    }
   ],
   "source": [
    "Amount"
   ]
  },
  {
   "cell_type": "code",
   "execution_count": 71,
   "metadata": {},
   "outputs": [
    {
     "ename": "AttributeError",
     "evalue": "'list' object has no attribute 'mean'",
     "output_type": "error",
     "traceback": [
      "\u001b[0;31m---------------------------------------------------------------------------\u001b[0m",
      "\u001b[0;31mAttributeError\u001b[0m                            Traceback (most recent call last)",
      "\u001b[0;32m<ipython-input-71-bd0c255a419a>\u001b[0m in \u001b[0;36m<module>\u001b[0;34m\u001b[0m\n\u001b[0;32m----> 1\u001b[0;31m \u001b[0mlist\u001b[0m\u001b[0;34m(\u001b[0m\u001b[0mAmount\u001b[0m\u001b[0;34m)\u001b[0m\u001b[0;34m.\u001b[0m\u001b[0mmean\u001b[0m\u001b[0;34m(\u001b[0m\u001b[0;34m)\u001b[0m\u001b[0;34m\u001b[0m\u001b[0;34m\u001b[0m\u001b[0m\n\u001b[0m",
      "\u001b[0;31mAttributeError\u001b[0m: 'list' object has no attribute 'mean'"
     ]
    }
   ],
   "source": [
    "list(Amount).mean()"
   ]
  },
  {
   "cell_type": "code",
   "execution_count": null,
   "metadata": {},
   "outputs": [],
   "source": [
    "import statistics\n",
    ">>> statistics.stdev(A_rank)"
   ]
  },
  {
   "cell_type": "code",
   "execution_count": 72,
   "metadata": {},
   "outputs": [],
   "source": [
    "Returns = [9999.26+9986.54+111813]"
   ]
  },
  {
   "cell_type": "code",
   "execution_count": 73,
   "metadata": {},
   "outputs": [
    {
     "ename": "NameError",
     "evalue": "name 'average' is not defined",
     "output_type": "error",
     "traceback": [
      "\u001b[0;31m---------------------------------------------------------------------------\u001b[0m",
      "\u001b[0;31mNameError\u001b[0m                                 Traceback (most recent call last)",
      "\u001b[0;32m<ipython-input-73-58a6669dbe82>\u001b[0m in \u001b[0;36m<module>\u001b[0;34m\u001b[0m\n\u001b[0;32m----> 1\u001b[0;31m \u001b[0maverage\u001b[0m\u001b[0;34m(\u001b[0m\u001b[0mReturns\u001b[0m\u001b[0;34m)\u001b[0m\u001b[0;34m\u001b[0m\u001b[0;34m\u001b[0m\u001b[0m\n\u001b[0m",
      "\u001b[0;31mNameError\u001b[0m: name 'average' is not defined"
     ]
    }
   ],
   "source": [
    "average(Returns)"
   ]
  },
  {
   "cell_type": "code",
   "execution_count": 74,
   "metadata": {},
   "outputs": [
    {
     "ename": "StatisticsError",
     "evalue": "variance requires at least two data points",
     "output_type": "error",
     "traceback": [
      "\u001b[0;31m---------------------------------------------------------------------------\u001b[0m",
      "\u001b[0;31mStatisticsError\u001b[0m                           Traceback (most recent call last)",
      "\u001b[0;32m<ipython-input-74-1bedbdd8360c>\u001b[0m in \u001b[0;36m<module>\u001b[0;34m\u001b[0m\n\u001b[1;32m      1\u001b[0m \u001b[0;32mimport\u001b[0m \u001b[0mstatistics\u001b[0m\u001b[0;34m\u001b[0m\u001b[0;34m\u001b[0m\u001b[0m\n\u001b[0;32m----> 2\u001b[0;31m \u001b[0mstatistics\u001b[0m\u001b[0;34m.\u001b[0m\u001b[0mstdev\u001b[0m\u001b[0;34m(\u001b[0m\u001b[0mReturns\u001b[0m\u001b[0;34m)\u001b[0m\u001b[0;34m\u001b[0m\u001b[0;34m\u001b[0m\u001b[0m\n\u001b[0m",
      "\u001b[0;32m~/anaconda3/lib/python3.7/statistics.py\u001b[0m in \u001b[0;36mstdev\u001b[0;34m(data, xbar)\u001b[0m\n\u001b[1;32m    647\u001b[0m \u001b[0;34m\u001b[0m\u001b[0m\n\u001b[1;32m    648\u001b[0m     \"\"\"\n\u001b[0;32m--> 649\u001b[0;31m     \u001b[0mvar\u001b[0m \u001b[0;34m=\u001b[0m \u001b[0mvariance\u001b[0m\u001b[0;34m(\u001b[0m\u001b[0mdata\u001b[0m\u001b[0;34m,\u001b[0m \u001b[0mxbar\u001b[0m\u001b[0;34m)\u001b[0m\u001b[0;34m\u001b[0m\u001b[0;34m\u001b[0m\u001b[0m\n\u001b[0m\u001b[1;32m    650\u001b[0m     \u001b[0;32mtry\u001b[0m\u001b[0;34m:\u001b[0m\u001b[0;34m\u001b[0m\u001b[0;34m\u001b[0m\u001b[0m\n\u001b[1;32m    651\u001b[0m         \u001b[0;32mreturn\u001b[0m \u001b[0mvar\u001b[0m\u001b[0;34m.\u001b[0m\u001b[0msqrt\u001b[0m\u001b[0;34m(\u001b[0m\u001b[0;34m)\u001b[0m\u001b[0;34m\u001b[0m\u001b[0;34m\u001b[0m\u001b[0m\n",
      "\u001b[0;32m~/anaconda3/lib/python3.7/statistics.py\u001b[0m in \u001b[0;36mvariance\u001b[0;34m(data, xbar)\u001b[0m\n\u001b[1;32m    585\u001b[0m     \u001b[0mn\u001b[0m \u001b[0;34m=\u001b[0m \u001b[0mlen\u001b[0m\u001b[0;34m(\u001b[0m\u001b[0mdata\u001b[0m\u001b[0;34m)\u001b[0m\u001b[0;34m\u001b[0m\u001b[0;34m\u001b[0m\u001b[0m\n\u001b[1;32m    586\u001b[0m     \u001b[0;32mif\u001b[0m \u001b[0mn\u001b[0m \u001b[0;34m<\u001b[0m \u001b[0;36m2\u001b[0m\u001b[0;34m:\u001b[0m\u001b[0;34m\u001b[0m\u001b[0;34m\u001b[0m\u001b[0m\n\u001b[0;32m--> 587\u001b[0;31m         \u001b[0;32mraise\u001b[0m \u001b[0mStatisticsError\u001b[0m\u001b[0;34m(\u001b[0m\u001b[0;34m'variance requires at least two data points'\u001b[0m\u001b[0;34m)\u001b[0m\u001b[0;34m\u001b[0m\u001b[0;34m\u001b[0m\u001b[0m\n\u001b[0m\u001b[1;32m    588\u001b[0m     \u001b[0mT\u001b[0m\u001b[0;34m,\u001b[0m \u001b[0mss\u001b[0m \u001b[0;34m=\u001b[0m \u001b[0m_ss\u001b[0m\u001b[0;34m(\u001b[0m\u001b[0mdata\u001b[0m\u001b[0;34m,\u001b[0m \u001b[0mxbar\u001b[0m\u001b[0;34m)\u001b[0m\u001b[0;34m\u001b[0m\u001b[0;34m\u001b[0m\u001b[0m\n\u001b[1;32m    589\u001b[0m     \u001b[0;32mreturn\u001b[0m \u001b[0m_convert\u001b[0m\u001b[0;34m(\u001b[0m\u001b[0mss\u001b[0m\u001b[0;34m/\u001b[0m\u001b[0;34m(\u001b[0m\u001b[0mn\u001b[0m\u001b[0;34m-\u001b[0m\u001b[0;36m1\u001b[0m\u001b[0;34m)\u001b[0m\u001b[0;34m,\u001b[0m \u001b[0mT\u001b[0m\u001b[0;34m)\u001b[0m\u001b[0;34m\u001b[0m\u001b[0;34m\u001b[0m\u001b[0m\n",
      "\u001b[0;31mStatisticsError\u001b[0m: variance requires at least two data points"
     ]
    }
   ],
   "source": [
    "import statistics\n",
    "statistics.stdev(Returns)"
   ]
  },
  {
   "cell_type": "code",
   "execution_count": null,
   "metadata": {},
   "outputs": [],
   "source": []
  }
 ],
 "metadata": {
  "kernelspec": {
   "display_name": "Python 3",
   "language": "python",
   "name": "python3"
  },
  "language_info": {
   "codemirror_mode": {
    "name": "ipython",
    "version": 3
   },
   "file_extension": ".py",
   "mimetype": "text/x-python",
   "name": "python",
   "nbconvert_exporter": "python",
   "pygments_lexer": "ipython3",
   "version": "3.7.3"
  }
 },
 "nbformat": 4,
 "nbformat_minor": 2
}
